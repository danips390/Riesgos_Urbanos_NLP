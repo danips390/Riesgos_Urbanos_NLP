{
 "cells": [
  {
   "cell_type": "code",
   "execution_count": 1,
   "id": "b21193ff",
   "metadata": {},
   "outputs": [
    {
     "name": "stderr",
     "output_type": "stream",
     "text": [
      "Testing instances:  75%|███████▌  | 3/4 [00:12<00:04,  4.26s/it]\n"
     ]
    },
    {
     "ename": "IndexError",
     "evalue": "list index out of range",
     "output_type": "error",
     "traceback": [
      "\u001b[1;31m---------------------------------------------------------------------------\u001b[0m",
      "\u001b[1;31mIndexError\u001b[0m                                Traceback (most recent call last)",
      "Cell \u001b[1;32mIn[1], line 6\u001b[0m\n\u001b[0;32m      3\u001b[0m \u001b[38;5;28;01mimport\u001b[39;00m \u001b[38;5;21;01mtime\u001b[39;00m\n\u001b[0;32m      5\u001b[0m \u001b[38;5;66;03m# Lista de instancias de Nitter\u001b[39;00m\n\u001b[1;32m----> 6\u001b[0m scraper \u001b[38;5;241m=\u001b[39m \u001b[43mNitter\u001b[49m\u001b[43m(\u001b[49m\u001b[43minstances\u001b[49m\u001b[38;5;241;43m=\u001b[39;49m\u001b[43m[\u001b[49m\u001b[38;5;124;43m'\u001b[39;49m\u001b[38;5;124;43mhttp://localhost:8080\u001b[39;49m\u001b[38;5;124;43m'\u001b[39;49m\u001b[43m,\u001b[49m\u001b[43m \u001b[49m\u001b[38;5;124;43m'\u001b[39;49m\u001b[38;5;124;43mhttps://nitter.net\u001b[39;49m\u001b[38;5;124;43m'\u001b[39;49m\u001b[43m,\u001b[49m\u001b[43m \u001b[49m\u001b[38;5;124;43m'\u001b[39;49m\u001b[38;5;124;43mhttps://xcancel.com\u001b[39;49m\u001b[38;5;124;43m'\u001b[39;49m\u001b[43m,\u001b[49m\u001b[43m \u001b[49m\u001b[38;5;124;43m'\u001b[39;49m\u001b[38;5;124;43mnitter.privacydev.net\u001b[39;49m\u001b[38;5;124;43m'\u001b[39;49m\u001b[43m]\u001b[49m\u001b[43m)\u001b[49m\n\u001b[0;32m      8\u001b[0m \u001b[38;5;28;01mdef\u001b[39;00m \u001b[38;5;21mget_tweets\u001b[39m(username, number\u001b[38;5;241m=\u001b[39m\u001b[38;5;241m50\u001b[39m):\n\u001b[0;32m      9\u001b[0m     \u001b[38;5;28;01mtry\u001b[39;00m:\n",
      "File \u001b[1;32mc:\\Users\\aesca\\AppData\\Local\\Programs\\Python\\Python311\\Lib\\site-packages\\ntscraper\\nitter.py:69\u001b[0m, in \u001b[0;36mNitter.__init__\u001b[1;34m(self, instances, log_level, skip_instance_check)\u001b[0m\n\u001b[0;32m     67\u001b[0m     \u001b[38;5;28mself\u001b[39m\u001b[38;5;241m.\u001b[39mworking_instances \u001b[38;5;241m=\u001b[39m \u001b[38;5;28mself\u001b[39m\u001b[38;5;241m.\u001b[39minstances\n\u001b[0;32m     68\u001b[0m \u001b[38;5;28;01melse\u001b[39;00m:\n\u001b[1;32m---> 69\u001b[0m     \u001b[38;5;28;43mself\u001b[39;49m\u001b[38;5;241;43m.\u001b[39;49m\u001b[43m_test_all_instances\u001b[49m\u001b[43m(\u001b[49m\u001b[38;5;124;43m\"\u001b[39;49m\u001b[38;5;124;43m/x\u001b[39;49m\u001b[38;5;124;43m\"\u001b[39;49m\u001b[43m,\u001b[49m\u001b[43m \u001b[49m\u001b[43mno_print\u001b[49m\u001b[38;5;241;43m=\u001b[39;49m\u001b[38;5;28;43;01mTrue\u001b[39;49;00m\u001b[43m)\u001b[49m\n\u001b[0;32m     70\u001b[0m \u001b[38;5;28;01mif\u001b[39;00m log_level \u001b[38;5;241m==\u001b[39m \u001b[38;5;241m0\u001b[39m:\n\u001b[0;32m     71\u001b[0m     log_level \u001b[38;5;241m=\u001b[39m logging\u001b[38;5;241m.\u001b[39mWARNING\n",
      "File \u001b[1;32mc:\\Users\\aesca\\AppData\\Local\\Programs\\Python\\Python311\\Lib\\site-packages\\ntscraper\\nitter.py:151\u001b[0m, in \u001b[0;36mNitter._test_all_instances\u001b[1;34m(self, endpoint, no_print)\u001b[0m\n\u001b[0;32m    148\u001b[0m working_instances \u001b[38;5;241m=\u001b[39m []\n\u001b[0;32m    150\u001b[0m \u001b[38;5;28;01mfor\u001b[39;00m instance \u001b[38;5;129;01min\u001b[39;00m tqdm(\u001b[38;5;28mself\u001b[39m\u001b[38;5;241m.\u001b[39minstances, desc\u001b[38;5;241m=\u001b[39m\u001b[38;5;124m\"\u001b[39m\u001b[38;5;124mTesting instances\u001b[39m\u001b[38;5;124m\"\u001b[39m):\n\u001b[1;32m--> 151\u001b[0m     \u001b[38;5;28;43mself\u001b[39;49m\u001b[38;5;241;43m.\u001b[39;49m\u001b[43m_initialize_session\u001b[49m\u001b[43m(\u001b[49m\u001b[43minstance\u001b[49m\u001b[43m)\u001b[49m\n\u001b[0;32m    152\u001b[0m     req_session \u001b[38;5;241m=\u001b[39m requests\u001b[38;5;241m.\u001b[39mSession()\n\u001b[0;32m    153\u001b[0m     req_session\u001b[38;5;241m.\u001b[39mheaders\u001b[38;5;241m.\u001b[39mupdate(\n\u001b[0;32m    154\u001b[0m         {\n\u001b[0;32m    155\u001b[0m             \u001b[38;5;124m\"\u001b[39m\u001b[38;5;124mUser-Agent\u001b[39m\u001b[38;5;124m\"\u001b[39m: \u001b[38;5;124m\"\u001b[39m\u001b[38;5;124mMozilla/5.0 (Windows NT 10.0; Win64; x64; rv:120.0) Gecko/20100101 Firefox/120.0\u001b[39m\u001b[38;5;124m\"\u001b[39m\n\u001b[0;32m    156\u001b[0m         }\n\u001b[0;32m    157\u001b[0m     )\n",
      "File \u001b[1;32mc:\\Users\\aesca\\AppData\\Local\\Programs\\Python\\Python311\\Lib\\site-packages\\ntscraper\\nitter.py:103\u001b[0m, in \u001b[0;36mNitter._initialize_session\u001b[1;34m(self, instance)\u001b[0m\n\u001b[0;32m     98\u001b[0m     \u001b[38;5;28mself\u001b[39m\u001b[38;5;241m.\u001b[39minstance \u001b[38;5;241m=\u001b[39m instance\n\u001b[0;32m     99\u001b[0m \u001b[38;5;28mself\u001b[39m\u001b[38;5;241m.\u001b[39mr \u001b[38;5;241m=\u001b[39m requests\u001b[38;5;241m.\u001b[39mSession()\n\u001b[0;32m    100\u001b[0m \u001b[38;5;28mself\u001b[39m\u001b[38;5;241m.\u001b[39mr\u001b[38;5;241m.\u001b[39mheaders\u001b[38;5;241m.\u001b[39mupdate(\n\u001b[0;32m    101\u001b[0m     {\n\u001b[0;32m    102\u001b[0m         \u001b[38;5;124m\"\u001b[39m\u001b[38;5;124mUser-Agent\u001b[39m\u001b[38;5;124m\"\u001b[39m: \u001b[38;5;124m\"\u001b[39m\u001b[38;5;124mMozilla/5.0 (Windows NT 10.0; Win64; x64; rv:129.0) Gecko/20100101 Firefox/129.0\u001b[39m\u001b[38;5;124m\"\u001b[39m,\n\u001b[1;32m--> 103\u001b[0m         \u001b[38;5;124m\"\u001b[39m\u001b[38;5;124mHost\u001b[39m\u001b[38;5;124m\"\u001b[39m: \u001b[38;5;28;43mself\u001b[39;49m\u001b[38;5;241;43m.\u001b[39;49m\u001b[43minstance\u001b[49m\u001b[38;5;241;43m.\u001b[39;49m\u001b[43msplit\u001b[49m\u001b[43m(\u001b[49m\u001b[38;5;124;43m\"\u001b[39;49m\u001b[38;5;124;43m://\u001b[39;49m\u001b[38;5;124;43m\"\u001b[39;49m\u001b[43m)\u001b[49m\u001b[43m[\u001b[49m\u001b[38;5;241;43m1\u001b[39;49m\u001b[43m]\u001b[49m,\n\u001b[0;32m    104\u001b[0m     }\n\u001b[0;32m    105\u001b[0m )\n",
      "\u001b[1;31mIndexError\u001b[0m: list index out of range"
     ]
    }
   ],
   "source": [
    "import pandas as pd\n",
    "from ntscraper import Nitter\n",
    "import time\n",
    "\n",
    "# Lista de instancias de Nitter\n",
    "scraper = Nitter(instances=['http://localhost:8080', 'https://nitter.net', 'https://xcancel.com', 'nitter.privacydev.net'])\n",
    "\n",
    "def get_tweets(username, number=50):\n",
    "    try:\n",
    "        tweets = scraper.get_tweets(username, mode=\"user\", number=number)\n",
    "        return tweets\n",
    "    except Exception as e:\n",
    "        print(f\"Error fetching tweets for {username}: {e}\")\n",
    "        return {}\n",
    "\n",
    "# Lista de usuarios\n",
    "usuarios = [\n",
    "    'Cicmty', 'conagua_mx', 'elnortelocal', 'LoQuePasaenNL', 'eldelaconsty', 'camion_desde',\n",
    "    'metrorreynlofi1', 'MovilidadSN', 'SSP_Apodaca', 'PC_NuevoLeon', 'TodosSomosHLM',\n",
    "    'AtentosMTYSur', 'Apodaca_News', 'ArbSanJorge', 'SoyDeSanNicolas', 'abimaelsal',\n",
    "    'BomberosNL', 'nelvaldez', 'MAGS_SP', 'saz2000', 'DarkKnightMty', 'revistacodigo21',\n",
    "    'Mty_Leones', 'cesarmty', '911SanPedro', 'SSPCMonterrey', 'pc_mty', 'rayelizalder',\n",
    "    'Informativo3651', 'arualsanpedrogg', 'JulioCesarCano', 'nmasmonterrey', 'info7mty',\n",
    "    'ABCNoticiasMX', 'AsiEsMonterrey', 'GobSanNicolas', 'PortalElPunto',\n",
    "    'gob_Escobed', 'mtygob', 'joluisgarcia', 'visionmty1', 'QuePasaEnS', 'LCAlatorre',\n",
    "    'IdentidadNL', 'MtyFollow', 'ayd_monterrey', 'ComunidadMTY', 'municipiodegpe',\n",
    "    'CiudaDanaMtySur'\n",
    "]\n",
    "\n",
    "# Recopilar tweets para cada usuario\n",
    "all_tweets = []\n",
    "\n",
    "for usuario in usuarios:\n",
    "    for _ in range(3):  # Intentar obtener tweets hasta 3 veces si es necesario\n",
    "        tweets_data = get_tweets(usuario, number=50)  # Obtener hasta 5 tweets por usuario\n",
    "        if 'tweets' in tweets_data and len(tweets_data['tweets']) > 0:\n",
    "            for tweet_info in tweets_data['tweets']:\n",
    "                tweet_link = tweet_info['link']\n",
    "                tweet_text = tweet_info['text']\n",
    "                user_name = tweet_info['user']['name']\n",
    "                user_username = tweet_info['user']['username']\n",
    "                tweet_date = tweet_info['date']\n",
    "                comments = tweet_info['stats']['comments']\n",
    "                retweets = tweet_info['stats']['retweets']\n",
    "                quotes = tweet_info['stats']['quotes']\n",
    "                likes = tweet_info['stats']['likes']\n",
    "\n",
    "                # Crear un diccionario con la información del tweet\n",
    "                tweet_details = {\n",
    "                    'Usuario': user_username,\n",
    "                    'Nombre': user_name,\n",
    "                    'Fecha': tweet_date,\n",
    "                    'Texto': tweet_text,\n",
    "                    'Likes': likes,\n",
    "                    'Retweets': retweets,\n",
    "                    'Comentarios': comments,\n",
    "                    'Citas': quotes,\n",
    "                    'Enlace': tweet_link\n",
    "                }\n",
    "\n",
    "                # Añadir multimedia si está disponible\n",
    "                if 'pictures' in tweet_info and tweet_info['pictures']:\n",
    "                    tweet_details['Imágenes'] = tweet_info['pictures']\n",
    "                if 'videos' in tweet_info and tweet_info['videos']:\n",
    "                    tweet_details['Videos'] = tweet_info['videos']\n",
    "                if 'gifs' in tweet_info and tweet_info['gifs']:\n",
    "                    tweet_details['GIFs'] = tweet_info['gifs']\n",
    "\n",
    "                # Añadir el tweet procesado a la lista de todos los tweets\n",
    "                all_tweets.append(tweet_details)\n",
    "            break  # Salir del bucle de reintentos si se obtienen tweets\n",
    "        else:\n",
    "            print(f\"No se encontraron tweets para el usuario {usuario} en el intento {_ + 1}\")\n",
    "        time.sleep(1)  # Esperar un segundo antes de intentar de nuevo\n",
    "\n",
    "# Convertir la lista de diccionarios en un DataFrame de pandas\n",
    "df = pd.DataFrame(all_tweets)\n",
    "\n",
    "# Guardar el DataFrame en un archivo CSV\n",
    "df.to_csv('tweets_Sep07.csv', index=False)\n"
   ]
  },
  {
   "cell_type": "code",
   "execution_count": null,
   "id": "f3cef14d",
   "metadata": {},
   "outputs": [],
   "source": [
    "df"
   ]
  }
 ],
 "metadata": {
  "kernelspec": {
   "display_name": "Python 3",
   "language": "python",
   "name": "python3"
  },
  "language_info": {
   "codemirror_mode": {
    "name": "ipython",
    "version": 3
   },
   "file_extension": ".py",
   "mimetype": "text/x-python",
   "name": "python",
   "nbconvert_exporter": "python",
   "pygments_lexer": "ipython3",
   "version": "3.11.2"
  }
 },
 "nbformat": 4,
 "nbformat_minor": 5
}
