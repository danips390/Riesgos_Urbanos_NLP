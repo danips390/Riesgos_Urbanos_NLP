{
 "cells": [
  {
   "cell_type": "code",
   "execution_count": 1,
   "id": "b21193ff",
   "metadata": {},
   "outputs": [
    {
     "name": "stderr",
     "output_type": "stream",
     "text": [
      "Testing instances: 100%|██████████| 16/16 [00:09<00:00,  1.69it/s]\n"
     ]
    },
    {
     "name": "stdout",
     "output_type": "stream",
     "text": [
      "Error fetching tweets for Cicmty: Cannot choose from an empty sequence\n",
      "No se encontraron tweets para el usuario Cicmty en el intento 1\n",
      "Error fetching tweets for Cicmty: Cannot choose from an empty sequence\n",
      "No se encontraron tweets para el usuario Cicmty en el intento 2\n",
      "Error fetching tweets for Cicmty: Cannot choose from an empty sequence\n",
      "No se encontraron tweets para el usuario Cicmty en el intento 3\n",
      "Error fetching tweets for conagua_mx: Cannot choose from an empty sequence\n",
      "No se encontraron tweets para el usuario conagua_mx en el intento 1\n",
      "Error fetching tweets for conagua_mx: Cannot choose from an empty sequence\n",
      "No se encontraron tweets para el usuario conagua_mx en el intento 2\n",
      "Error fetching tweets for conagua_mx: Cannot choose from an empty sequence\n",
      "No se encontraron tweets para el usuario conagua_mx en el intento 3\n",
      "Error fetching tweets for elnortelocal: Cannot choose from an empty sequence\n",
      "No se encontraron tweets para el usuario elnortelocal en el intento 1\n",
      "Error fetching tweets for elnortelocal: Cannot choose from an empty sequence\n",
      "No se encontraron tweets para el usuario elnortelocal en el intento 2\n",
      "Error fetching tweets for elnortelocal: Cannot choose from an empty sequence\n",
      "No se encontraron tweets para el usuario elnortelocal en el intento 3\n",
      "Error fetching tweets for LoQuePasaenNL: Cannot choose from an empty sequence\n",
      "No se encontraron tweets para el usuario LoQuePasaenNL en el intento 1\n",
      "Error fetching tweets for LoQuePasaenNL: Cannot choose from an empty sequence\n",
      "No se encontraron tweets para el usuario LoQuePasaenNL en el intento 2\n"
     ]
    },
    {
     "ename": "KeyboardInterrupt",
     "evalue": "",
     "output_type": "error",
     "traceback": [
      "\u001b[1;31m---------------------------------------------------------------------------\u001b[0m",
      "\u001b[1;31mKeyboardInterrupt\u001b[0m                         Traceback (most recent call last)",
      "Cell \u001b[1;32mIn[1], line 74\u001b[0m\n\u001b[0;32m     72\u001b[0m         \u001b[38;5;28;01melse\u001b[39;00m:\n\u001b[0;32m     73\u001b[0m             \u001b[38;5;28mprint\u001b[39m(\u001b[38;5;124mf\u001b[39m\u001b[38;5;124m\"\u001b[39m\u001b[38;5;124mNo se encontraron tweets para el usuario \u001b[39m\u001b[38;5;132;01m{\u001b[39;00musuario\u001b[38;5;132;01m}\u001b[39;00m\u001b[38;5;124m en el intento \u001b[39m\u001b[38;5;132;01m{\u001b[39;00m_\u001b[38;5;250m \u001b[39m\u001b[38;5;241m+\u001b[39m\u001b[38;5;250m \u001b[39m\u001b[38;5;241m1\u001b[39m\u001b[38;5;132;01m}\u001b[39;00m\u001b[38;5;124m\"\u001b[39m)\n\u001b[1;32m---> 74\u001b[0m         time\u001b[38;5;241m.\u001b[39msleep(\u001b[38;5;241m1\u001b[39m)  \u001b[38;5;66;03m# Esperar un segundo antes de intentar de nuevo\u001b[39;00m\n\u001b[0;32m     76\u001b[0m \u001b[38;5;66;03m# Convertir la lista de diccionarios en un DataFrame de pandas\u001b[39;00m\n\u001b[0;32m     77\u001b[0m df \u001b[38;5;241m=\u001b[39m pd\u001b[38;5;241m.\u001b[39mDataFrame(all_tweets)\n",
      "\u001b[1;31mKeyboardInterrupt\u001b[0m: "
     ]
    }
   ],
   "source": [
    "import pandas as pd\n",
    "from ntscraper import Nitter\n",
    "import time\n",
    "\n",
    "# Lista de instancias de Nitter\n",
    "scraper = Nitter()\n",
    "\n",
    "def get_tweets(username, number=50):\n",
    "    try:\n",
    "        tweets = scraper.get_tweets(username, mode=\"user\", number=number)\n",
    "        return tweets\n",
    "    except Exception as e:\n",
    "        print(f\"Error fetching tweets for {username}: {e}\")\n",
    "        return {}\n",
    "\n",
    "# Lista de usuarios\n",
    "usuarios = [\n",
    "    'Cicmty', 'conagua_mx', 'elnortelocal', 'LoQuePasaenNL', 'eldelaconsty', 'camion_desde',\n",
    "    'metrorreynlofi1', 'MovilidadSN', 'SSP_Apodaca', 'PC_NuevoLeon', 'TodosSomosHLM',\n",
    "    'AtentosMTYSur', 'Apodaca_News', 'ArbSanJorge', 'SoyDeSanNicolas', 'abimaelsal',\n",
    "    'BomberosNL', 'nelvaldez', 'MAGS_SP', 'saz2000', 'DarkKnightMty', 'revistacodigo21',\n",
    "    'Mty_Leones', 'cesarmty', '911SanPedro', 'SSPCMonterrey', 'pc_mty', 'rayelizalder',\n",
    "    'Informativo3651', 'arualsanpedrogg', 'JulioCesarCano', 'nmasmonterrey', 'info7mty',\n",
    "    'ABCNoticiasMX', 'AsiEsMonterrey', 'GobSanNicolas', 'PortalElPunto',\n",
    "    'gob_Escobed', 'mtygob', 'joluisgarcia', 'visionmty1', 'QuePasaEnS', 'LCAlatorre',\n",
    "    'IdentidadNL', 'MtyFollow', 'ayd_monterrey', 'ComunidadMTY', 'municipiodegpe',\n",
    "    'CiudaDanaMtySur'\n",
    "]\n",
    "\n",
    "# Recopilar tweets para cada usuario\n",
    "all_tweets = []\n",
    "\n",
    "for usuario in usuarios:\n",
    "    for _ in range(3):  # Intentar obtener tweets hasta 3 veces si es necesario\n",
    "        tweets_data = get_tweets(usuario, number=50)  # Obtener hasta 5 tweets por usuario\n",
    "        if 'tweets' in tweets_data and len(tweets_data['tweets']) > 0:\n",
    "            for tweet_info in tweets_data['tweets']:\n",
    "                tweet_link = tweet_info['link']\n",
    "                tweet_text = tweet_info['text']\n",
    "                user_name = tweet_info['user']['name']\n",
    "                user_username = tweet_info['user']['username']\n",
    "                tweet_date = tweet_info['date']\n",
    "                comments = tweet_info['stats']['comments']\n",
    "                retweets = tweet_info['stats']['retweets']\n",
    "                quotes = tweet_info['stats']['quotes']\n",
    "                likes = tweet_info['stats']['likes']\n",
    "\n",
    "                # Crear un diccionario con la información del tweet\n",
    "                tweet_details = {\n",
    "                    'Usuario': user_username,\n",
    "                    'Nombre': user_name,\n",
    "                    'Fecha': tweet_date,\n",
    "                    'Texto': tweet_text,\n",
    "                    'Likes': likes,\n",
    "                    'Retweets': retweets,\n",
    "                    'Comentarios': comments,\n",
    "                    'Citas': quotes,\n",
    "                    'Enlace': tweet_link\n",
    "                }\n",
    "\n",
    "                # Añadir multimedia si está disponible\n",
    "                if 'pictures' in tweet_info and tweet_info['pictures']:\n",
    "                    tweet_details['Imágenes'] = tweet_info['pictures']\n",
    "                if 'videos' in tweet_info and tweet_info['videos']:\n",
    "                    tweet_details['Videos'] = tweet_info['videos']\n",
    "                if 'gifs' in tweet_info and tweet_info['gifs']:\n",
    "                    tweet_details['GIFs'] = tweet_info['gifs']\n",
    "\n",
    "                # Añadir el tweet procesado a la lista de todos los tweets\n",
    "                all_tweets.append(tweet_details)\n",
    "            break  # Salir del bucle de reintentos si se obtienen tweets\n",
    "        else:\n",
    "            print(f\"No se encontraron tweets para el usuario {usuario} en el intento {_ + 1}\")\n",
    "        time.sleep(1)  # Esperar un segundo antes de intentar de nuevo\n",
    "\n",
    "# Convertir la lista de diccionarios en un DataFrame de pandas\n",
    "df = pd.DataFrame(all_tweets)\n",
    "\n",
    "# Guardar el DataFrame en un archivo CSV\n",
    "df.to_csv('tweets_Sep07.csv', index=False)\n"
   ]
  },
  {
   "cell_type": "code",
   "execution_count": null,
   "id": "f3cef14d",
   "metadata": {},
   "outputs": [],
   "source": [
    "df"
   ]
  }
 ],
 "metadata": {
  "kernelspec": {
   "display_name": "Python 3",
   "language": "python",
   "name": "python3"
  },
  "language_info": {
   "codemirror_mode": {
    "name": "ipython",
    "version": 3
   },
   "file_extension": ".py",
   "mimetype": "text/x-python",
   "name": "python",
   "nbconvert_exporter": "python",
   "pygments_lexer": "ipython3",
   "version": "3.11.2"
  }
 },
 "nbformat": 4,
 "nbformat_minor": 5
}
