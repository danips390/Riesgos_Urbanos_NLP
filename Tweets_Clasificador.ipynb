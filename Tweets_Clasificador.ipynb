{
 "cells": [
  {
   "cell_type": "code",
   "execution_count": 17,
   "metadata": {},
   "outputs": [
    {
     "name": "stderr",
     "output_type": "stream",
     "text": [
      "/var/folders/8b/d34q145x44x2xf_06_gchyfw0000gq/T/ipykernel_71386/523724659.py:51: SettingWithCopyWarning: \n",
      "A value is trying to be set on a copy of a slice from a DataFrame.\n",
      "Try using .loc[row_indexer,col_indexer] = value instead\n",
      "\n",
      "See the caveats in the documentation: https://pandas.pydata.org/pandas-docs/stable/user_guide/indexing.html#returning-a-view-versus-a-copy\n",
      "  df_tweets_clean['Texto'] = df_tweets_clean['Texto'].apply(clean_text)\n"
     ]
    }
   ],
   "source": [
    "import spacy\n",
    "import numpy as np\n",
    "import pandas as pd\n",
    "import re\n",
    "import matplotlib.pyplot as plt\n",
    "\n",
    "# Cargar modelo en español de spaCy\n",
    "nlp = spacy.load(\"es_core_news_sm\")\n",
    "\n",
    "# Lista de palabras clave\n",
    "keywords = ['lluvia', 'inundación', 'accidente', 'apagón', 'deslave', 'desborde', 'incendio', 'fuga', 'colapso', 'tormenta']\n",
    "\n",
    "# Función para eliminar los símbolos, emoticones y links\n",
    "def clean_text(text):\n",
    "    text = re.sub(r'http\\S+|www.\\S+', '', text)\n",
    "    emoji_pattern = re.compile(\n",
    "        \"[\"\n",
    "        u\"\\U0001F600-\\U0001F64F\"  \n",
    "        u\"\\U0001F300-\\U0001F5FF\"  \n",
    "        u\"\\U0001F680-\\U0001F6FF\"  \n",
    "        u\"\\U0001F700-\\U0001F77F\"  \n",
    "        u\"\\U0001F780-\\U0001F7FF\"  \n",
    "        u\"\\U0001F800-\\U0001F8FF\"  \n",
    "        u\"\\U0001F900-\\U0001F9FF\"  \n",
    "        u\"\\U0001FA00-\\U0001FA6F\"  \n",
    "        u\"\\U0001FA70-\\U0001FAFF\"  \n",
    "        u\"\\U00002700-\\U000027BF\"  \n",
    "        u\"\\U0001F1E0-\\U0001F1FF\"  \n",
    "        \"]+\", flags=re.UNICODE\n",
    "    )\n",
    "    text = emoji_pattern.sub(r'', text)\n",
    "    text = re.sub(r'[^a-zA-ZáéíóúÁÉÍÓÚñÑüÜ\\s]', '', text)\n",
    "    text = text.lower()\n",
    "    text = re.sub(r'\\s+', ' ', text).strip()\n",
    "    return text\n",
    "\n",
    "# Función para verificar si el tweet contiene una palabra clave o sus variantes\n",
    "def contains_keyword(text, keywords, nlp):\n",
    "    doc = nlp(text)\n",
    "    lemmas = {token.lemma_ for token in doc}\n",
    "    return any(keyword in lemmas for keyword in keywords)\n",
    "\n",
    "# Cargar la base de datos\n",
    "tweets_file = \"/Users/Daniel/Documents/ITESM/Séptimo Semestre/proyecto nlp/Predicci-n-de-Riesgos-Urbanos-con-NLP/X-NLP/tweets_Jun22-1.csv\"\n",
    "df_tweets = pd.read_csv(tweets_file)\n",
    "\n",
    "# Eliminar tweets que no tienen texto\n",
    "df_tweets_clean = df_tweets.dropna(subset=['Texto'])\n",
    "\n",
    "# Aplicar la función de limpieza a la columna de texto \n",
    "df_tweets_clean['Texto'] = df_tweets_clean['Texto'].apply(clean_text)\n",
    "\n",
    "# Filtrar los tweets que contienen una palabra clave o sus variantes\n",
    "df_tweets_filtered = df_tweets_clean[df_tweets_clean['Texto'].apply(lambda x: contains_keyword(x, keywords, nlp))]\n",
    "\n",
    "# Guardar el resultado filtrado\n",
    "df_tweets_filtered.to_csv('/Users/Daniel/Documents/ITESM/Séptimo Semestre/proyecto nlp/Predicci-n-de-Riesgos-Urbanos-con-NLP/X-NLP/tweets_Jun_filtered/tweets_Jun22-1_filtered.csv', index=False)\n"
   ]
  },
  {
   "cell_type": "markdown",
   "metadata": {},
   "source": [
    "## Unificando datasets en un solo dataframe"
   ]
  },
  {
   "cell_type": "code",
   "execution_count": null,
   "metadata": {},
   "outputs": [],
   "source": [
    "import os\n",
    "import pandas as pd\n",
    "\n",
    "# Directorio donde se encuentran los CSV\n",
    "folder_path = '/Users/Daniel/Documents/ITESM/Séptimo Semestre/proyecto nlp/Predicci-n-de-Riesgos-Urbanos-con-NLP/X-NLP/tweets_Jun_filtered'\n",
    "\n",
    "# Lista para almacenar los DataFrames\n",
    "df_list = []\n",
    "\n",
    "# Iterar sobre los archivos en el directorio\n",
    "for filename in os.listdir(folder_path):\n",
    "    if filename.endswith('.csv'):\n",
    "        # Cargar cada CSV en un DataFrame y añadirlo a la lista\n",
    "        df = pd.read_csv(os.path.join(folder_path, filename))\n",
    "        df_list.append(df)\n",
    "\n",
    "# Concatenar todos los DataFrames de la lista en uno solo\n",
    "combined_df = pd.concat(df_list, ignore_index=True)\n",
    "\n",
    "# Guardar el DataFrame combinado en un nuevo archivo CSV\n",
    "combined_df.to_csv('tweets_filtered_global.csv', index=False)\n",
    "\n",
    "print('CSV combinados y guardados como archivo_combinado.csv')\n"
   ]
  },
  {
   "cell_type": "markdown",
   "metadata": {},
   "source": [
    "## Cargando dataset etiquetado para entrenar modelo"
   ]
  },
  {
   "cell_type": "code",
   "execution_count": 3,
   "metadata": {},
   "outputs": [
    {
     "data": {
      "image/png": "[encoded data removed]",
      "text/plain": [
       "<Figure size 640x480 with 1 Axes>"
      ]
     },
     "metadata": {},
     "output_type": "display_data"
    }
   ],
   "source": [
    "tweets_clean_classified = \"tweets_better_classified.csv\"\n",
    "df_tweets_clean_fil = pd.read_csv(tweets_clean_classified)\n",
    "\n",
    "tipo_counts = df_tweets_clean_fil['Tipo'].value_counts()\n",
    "\n",
    "# Creación del histograma\n",
    "tipo_counts.plot(kind='bar', color='skyblue')\n",
    "plt.xlabel('Tipo')\n",
    "plt.ylabel('Frecuencia')\n",
    "plt.title('Histograma de las clasificaciones de los tweets')\n",
    "plt.show()"
   ]
  },
  {
   "cell_type": "markdown",
   "metadata": {},
   "source": [
    "## Modelo de clasificación de tweets"
   ]
  },
  {
   "cell_type": "code",
   "execution_count": 7,
   "metadata": {},
   "outputs": [],
   "source": [
    "import pandas as pd\n",
    "import numpy as np\n",
    "from sklearn.model_selection import train_test_split\n",
    "from sklearn.preprocessing import LabelEncoder\n",
    "from sklearn.metrics import classification_report\n",
    "from transformers import BertTokenizer, BertForSequenceClassification\n",
    "from transformers import Trainer, TrainingArguments\n",
    "import torch"
   ]
  },
  {
   "cell_type": "code",
   "execution_count": 8,
   "metadata": {},
   "outputs": [
    {
     "name": "stderr",
     "output_type": "stream",
     "text": [
      "Some weights of BertForSequenceClassification were not initialized from the model checkpoint at bert-base-uncased and are newly initialized: ['classifier.bias', 'classifier.weight']\n",
      "You should probably TRAIN this model on a down-stream task to be able to use it for predictions and inference.\n",
      " 21%|██▏       | 15/70 [2:39:41<9:45:30, 638.74s/it]\n",
      "  3%|▎         | 10/290 [01:52<53:17, 11.42s/it] "
     ]
    },
    {
     "name": "stdout",
     "output_type": "stream",
     "text": [
      "{'loss': 1.4366, 'grad_norm': 8.068428039550781, 'learning_rate': 1.0000000000000002e-06, 'epoch': 0.34}\n"
     ]
    },
    {
     "name": "stderr",
     "output_type": "stream",
     "text": [
      "  7%|▋         | 20/290 [04:10<1:03:08, 14.03s/it]"
     ]
    },
    {
     "name": "stdout",
     "output_type": "stream",
     "text": [
      "{'loss': 1.4012, 'grad_norm': 6.48807954788208, 'learning_rate': 2.0000000000000003e-06, 'epoch': 0.69}\n"
     ]
    },
    {
     "name": "stderr",
     "output_type": "stream",
     "text": [
      " 10%|█         | 30/290 [06:26<1:02:04, 14.32s/it]"
     ]
    },
    {
     "name": "stdout",
     "output_type": "stream",
     "text": [
      "{'loss': 1.321, 'grad_norm': 4.925544261932373, 'learning_rate': 3e-06, 'epoch': 1.03}\n"
     ]
    },
    {
     "name": "stderr",
     "output_type": "stream",
     "text": [
      " 14%|█▍        | 40/290 [08:42<57:27, 13.79s/it]  "
     ]
    },
    {
     "name": "stdout",
     "output_type": "stream",
     "text": [
      "{'loss': 1.2342, 'grad_norm': 4.948869705200195, 'learning_rate': 4.000000000000001e-06, 'epoch': 1.38}\n"
     ]
    },
    {
     "name": "stderr",
     "output_type": "stream",
     "text": [
      " 17%|█▋        | 50/290 [10:59<52:06, 13.03s/it]  "
     ]
    },
    {
     "name": "stdout",
     "output_type": "stream",
     "text": [
      "{'loss': 1.1332, 'grad_norm': 7.89774227142334, 'learning_rate': 5e-06, 'epoch': 1.72}\n"
     ]
    },
    {
     "name": "stderr",
     "output_type": "stream",
     "text": [
      " 21%|██        | 60/290 [13:00<45:40, 11.92s/it]"
     ]
    },
    {
     "name": "stdout",
     "output_type": "stream",
     "text": [
      "{'loss': 1.092, 'grad_norm': 9.240959167480469, 'learning_rate': 6e-06, 'epoch': 2.07}\n"
     ]
    },
    {
     "name": "stderr",
     "output_type": "stream",
     "text": [
      " 24%|██▍       | 70/290 [15:10<46:04, 12.57s/it]"
     ]
    },
    {
     "name": "stdout",
     "output_type": "stream",
     "text": [
      "{'loss': 1.0998, 'grad_norm': 7.956357002258301, 'learning_rate': 7.000000000000001e-06, 'epoch': 2.41}\n"
     ]
    },
    {
     "name": "stderr",
     "output_type": "stream",
     "text": [
      " 28%|██▊       | 80/290 [17:22<42:36, 12.17s/it]"
     ]
    },
    {
     "name": "stdout",
     "output_type": "stream",
     "text": [
      "{'loss': 0.9436, 'grad_norm': 9.090806007385254, 'learning_rate': 8.000000000000001e-06, 'epoch': 2.76}\n"
     ]
    },
    {
     "name": "stderr",
     "output_type": "stream",
     "text": [
      " 31%|███       | 90/290 [19:39<46:07, 13.84s/it]"
     ]
    },
    {
     "name": "stdout",
     "output_type": "stream",
     "text": [
      "{'loss': 0.8908, 'grad_norm': 6.102569580078125, 'learning_rate': 9e-06, 'epoch': 3.1}\n"
     ]
    },
    {
     "name": "stderr",
     "output_type": "stream",
     "text": [
      " 34%|███▍      | 100/290 [21:27<30:47,  9.72s/it]"
     ]
    },
    {
     "name": "stdout",
     "output_type": "stream",
     "text": [
      "{'loss': 0.7171, 'grad_norm': 9.406201362609863, 'learning_rate': 1e-05, 'epoch': 3.45}\n"
     ]
    },
    {
     "name": "stderr",
     "output_type": "stream",
     "text": [
      " 38%|███▊      | 110/290 [23:25<35:10, 11.72s/it]"
     ]
    },
    {
     "name": "stdout",
     "output_type": "stream",
     "text": [
      "{'loss': 0.8744, 'grad_norm': 8.811043739318848, 'learning_rate': 1.1000000000000001e-05, 'epoch': 3.79}\n"
     ]
    },
    {
     "name": "stderr",
     "output_type": "stream",
     "text": [
      " 41%|████▏     | 120/290 [25:28<33:10, 11.71s/it]"
     ]
    },
    {
     "name": "stdout",
     "output_type": "stream",
     "text": [
      "{'loss': 0.7032, 'grad_norm': 5.637996673583984, 'learning_rate': 1.2e-05, 'epoch': 4.14}\n"
     ]
    },
    {
     "name": "stderr",
     "output_type": "stream",
     "text": [
      " 45%|████▍     | 130/290 [27:42<33:38, 12.62s/it]"
     ]
    },
    {
     "name": "stdout",
     "output_type": "stream",
     "text": [
      "{'loss': 0.5137, 'grad_norm': 8.632944107055664, 'learning_rate': 1.3000000000000001e-05, 'epoch': 4.48}\n"
     ]
    },
    {
     "name": "stderr",
     "output_type": "stream",
     "text": [
      " 48%|████▊     | 140/290 [29:32<26:42, 10.69s/it]"
     ]
    },
    {
     "name": "stdout",
     "output_type": "stream",
     "text": [
      "{'loss': 0.4598, 'grad_norm': 6.459730625152588, 'learning_rate': 1.4000000000000001e-05, 'epoch': 4.83}\n"
     ]
    },
    {
     "name": "stderr",
     "output_type": "stream",
     "text": [
      " 52%|█████▏    | 150/290 [31:38<31:43, 13.60s/it]"
     ]
    },
    {
     "name": "stdout",
     "output_type": "stream",
     "text": [
      "{'loss': 0.3989, 'grad_norm': 14.099217414855957, 'learning_rate': 1.5e-05, 'epoch': 5.17}\n"
     ]
    },
    {
     "name": "stderr",
     "output_type": "stream",
     "text": [
      " 55%|█████▌    | 160/290 [33:42<27:10, 12.54s/it]"
     ]
    },
    {
     "name": "stdout",
     "output_type": "stream",
     "text": [
      "{'loss': 0.4191, 'grad_norm': 30.662748336791992, 'learning_rate': 1.6000000000000003e-05, 'epoch': 5.52}\n"
     ]
    },
    {
     "name": "stderr",
     "output_type": "stream",
     "text": [
      " 59%|█████▊    | 170/290 [35:46<26:11, 13.10s/it]"
     ]
    },
    {
     "name": "stdout",
     "output_type": "stream",
     "text": [
      "{'loss': 0.3722, 'grad_norm': 1.1918506622314453, 'learning_rate': 1.7000000000000003e-05, 'epoch': 5.86}\n"
     ]
    },
    {
     "name": "stderr",
     "output_type": "stream",
     "text": [
      " 62%|██████▏   | 180/290 [37:34<17:47,  9.70s/it]"
     ]
    },
    {
     "name": "stdout",
     "output_type": "stream",
     "text": [
      "{'loss': 0.1826, 'grad_norm': 6.8704304695129395, 'learning_rate': 1.8e-05, 'epoch': 6.21}\n"
     ]
    },
    {
     "name": "stderr",
     "output_type": "stream",
     "text": [
      " 66%|██████▌   | 190/290 [39:03<14:46,  8.86s/it]"
     ]
    },
    {
     "name": "stdout",
     "output_type": "stream",
     "text": [
      "{'loss': 0.237, 'grad_norm': 4.635956764221191, 'learning_rate': 1.9e-05, 'epoch': 6.55}\n"
     ]
    },
    {
     "name": "stderr",
     "output_type": "stream",
     "text": [
      " 69%|██████▉   | 200/290 [40:48<14:52,  9.92s/it]"
     ]
    },
    {
     "name": "stdout",
     "output_type": "stream",
     "text": [
      "{'loss': 0.1788, 'grad_norm': 8.922293663024902, 'learning_rate': 2e-05, 'epoch': 6.9}\n"
     ]
    },
    {
     "name": "stderr",
     "output_type": "stream",
     "text": [
      " 72%|███████▏  | 210/290 [42:53<17:43, 13.29s/it]"
     ]
    },
    {
     "name": "stdout",
     "output_type": "stream",
     "text": [
      "{'loss': 0.1641, 'grad_norm': 1.600313663482666, 'learning_rate': 2.1e-05, 'epoch': 7.24}\n"
     ]
    },
    {
     "name": "stderr",
     "output_type": "stream",
     "text": [
      " 76%|███████▌  | 220/290 [44:52<13:30, 11.58s/it]"
     ]
    },
    {
     "name": "stdout",
     "output_type": "stream",
     "text": [
      "{'loss': 0.1259, 'grad_norm': 15.667215347290039, 'learning_rate': 2.2000000000000003e-05, 'epoch': 7.59}\n"
     ]
    },
    {
     "name": "stderr",
     "output_type": "stream",
     "text": [
      " 79%|███████▉  | 230/290 [46:28<09:49,  9.83s/it]"
     ]
    },
    {
     "name": "stdout",
     "output_type": "stream",
     "text": [
      "{'loss': 0.0549, 'grad_norm': 0.3655213415622711, 'learning_rate': 2.3000000000000003e-05, 'epoch': 7.93}\n"
     ]
    },
    {
     "name": "stderr",
     "output_type": "stream",
     "text": [
      " 83%|████████▎ | 240/290 [48:34<10:27, 12.54s/it]"
     ]
    },
    {
     "name": "stdout",
     "output_type": "stream",
     "text": [
      "{'loss': 0.09, 'grad_norm': 0.3416174054145813, 'learning_rate': 2.4e-05, 'epoch': 8.28}\n"
     ]
    },
    {
     "name": "stderr",
     "output_type": "stream",
     "text": [
      " 86%|████████▌ | 250/290 [50:40<08:14, 12.37s/it]"
     ]
    },
    {
     "name": "stdout",
     "output_type": "stream",
     "text": [
      "{'loss': 0.05, 'grad_norm': 0.1444886326789856, 'learning_rate': 2.5e-05, 'epoch': 8.62}\n"
     ]
    },
    {
     "name": "stderr",
     "output_type": "stream",
     "text": [
      " 90%|████████▉ | 260/290 [52:54<07:13, 14.45s/it]"
     ]
    },
    {
     "name": "stdout",
     "output_type": "stream",
     "text": [
      "{'loss': 0.0603, 'grad_norm': 1.2603914737701416, 'learning_rate': 2.6000000000000002e-05, 'epoch': 8.97}\n"
     ]
    },
    {
     "name": "stderr",
     "output_type": "stream",
     "text": [
      " 93%|█████████▎| 270/290 [54:56<04:07, 12.37s/it]"
     ]
    },
    {
     "name": "stdout",
     "output_type": "stream",
     "text": [
      "{'loss': 0.1724, 'grad_norm': 2.8948917388916016, 'learning_rate': 2.7000000000000002e-05, 'epoch': 9.31}\n"
     ]
    },
    {
     "name": "stderr",
     "output_type": "stream",
     "text": [
      " 97%|█████████▋| 280/290 [56:44<01:45, 10.59s/it]"
     ]
    },
    {
     "name": "stdout",
     "output_type": "stream",
     "text": [
      "{'loss': 0.0933, 'grad_norm': 0.11398879438638687, 'learning_rate': 2.8000000000000003e-05, 'epoch': 9.66}\n"
     ]
    },
    {
     "name": "stderr",
     "output_type": "stream",
     "text": [
      "100%|██████████| 290/290 [58:39<00:00, 12.14s/it]\n"
     ]
    },
    {
     "name": "stdout",
     "output_type": "stream",
     "text": [
      "{'loss': 0.0073, 'grad_norm': 0.5522570013999939, 'learning_rate': 2.9e-05, 'epoch': 10.0}\n",
      "{'train_runtime': 3519.2527, 'train_samples_per_second': 1.316, 'train_steps_per_second': 0.082, 'train_loss': 0.5664509480883335, 'epoch': 10.0}\n"
     ]
    },
    {
     "name": "stderr",
     "output_type": "stream",
     "text": [
      "100%|██████████| 2/2 [00:09<00:00,  4.82s/it]\n"
     ]
    },
    {
     "name": "stdout",
     "output_type": "stream",
     "text": [
      "                 precision    recall  f1-score   support\n",
      "\n",
      "      eléctrico       0.94      0.94      0.94        17\n",
      "     inundación       0.95      1.00      0.98        21\n",
      "         lluvia       0.99      0.99      0.99        67\n",
      "no se relaciona       1.00      0.91      0.95        11\n",
      "\n",
      "       accuracy                           0.97       116\n",
      "      macro avg       0.97      0.96      0.96       116\n",
      "   weighted avg       0.97      0.97      0.97       116\n",
      "\n"
     ]
    }
   ],
   "source": [
    "# Cargar el dataset\n",
    "df = pd.read_csv(\"tweets_better_classified.csv\")\n",
    "\n",
    "# Preprocesar las etiquetas\n",
    "label_encoder = LabelEncoder()\n",
    "df['label'] = label_encoder.fit_transform(df['Tipo'])  # Ajusta 'categoria' a la columna correspondiente\n",
    "\n",
    "# Dividir el dataset en entrenamiento y prueba\n",
    "train, test = train_test_split(df, test_size=0.2, random_state=42)\n",
    "\n",
    "# Inicializar el tokenizer BERT\n",
    "tokenizer = BertTokenizer.from_pretrained(\"bert-base-uncased\")\n",
    "\n",
    "# Función para tokenizar los textos\n",
    "def tokenize_function(examples):\n",
    "    return tokenizer(examples['Texto'], padding=\"max_length\", truncation=True, max_length=128)\n",
    "\n",
    "# Aplicar el tokenizer a los datos de entrenamiento y prueba\n",
    "train_encodings = tokenizer(list(train['Texto'].values), truncation=True, padding=True, max_length=128)\n",
    "test_encodings = tokenizer(list(test['Texto'].values), truncation=True, padding=True, max_length=128)\n",
    "\n",
    "# Convertir las etiquetas en tensores\n",
    "train_labels = torch.tensor(train['label'].values)\n",
    "test_labels = torch.tensor(test['label'].values)\n",
    "\n",
    "# Crear un dataset personalizado\n",
    "class TweetDataset(torch.utils.data.Dataset):\n",
    "    def __init__(self, encodings, labels):\n",
    "        self.encodings = encodings\n",
    "        self.labels = labels\n",
    "\n",
    "    def __getitem__(self, idx):\n",
    "        item = {key: torch.tensor(val[idx]) for key, val in self.encodings.items()}\n",
    "        item['labels'] = self.labels[idx]\n",
    "        return item\n",
    "\n",
    "    def __len__(self):\n",
    "        return len(self.labels)\n",
    "\n",
    "train_dataset = TweetDataset(train_encodings, train_labels)\n",
    "test_dataset = TweetDataset(test_encodings, test_labels)\n",
    "\n",
    "# Cargar el modelo BERT para clasificación de secuencias\n",
    "model = BertForSequenceClassification.from_pretrained(\"bert-base-uncased\", num_labels=4)  \n",
    "\n",
    "# Definir los argumentos del entrenamiento\n",
    "training_args = TrainingArguments(\n",
    "    output_dir='./results',          # Directorio para guardar los resultados\n",
    "    num_train_epochs=10,              # Número de épocas\n",
    "    per_device_train_batch_size=16,  # Tamaño del lote en entrenamiento\n",
    "    per_device_eval_batch_size=64,   # Tamaño del lote en evaluación\n",
    "    warmup_steps=500,                # Número de pasos para warmup\n",
    "    weight_decay=0.01,               # Tasa de decaimiento del peso\n",
    "    logging_dir='./logs',            # Directorio para guardar los logs\n",
    "    logging_steps=10,\n",
    ")\n",
    "\n",
    "# Crear el Trainer\n",
    "trainer = Trainer(\n",
    "    model=model,\n",
    "    args=training_args,\n",
    "    train_dataset=train_dataset,\n",
    "    eval_dataset=test_dataset,\n",
    ")\n",
    "\n",
    "# Entrenar el modelo\n",
    "trainer.train()\n",
    "\n",
    "# Evaluar el modelo\n",
    "predictions = trainer.predict(test_dataset)\n",
    "preds = np.argmax(predictions.predictions, axis=1)\n",
    "\n",
    "# Reporte de clasificación\n",
    "print(classification_report(test_labels, preds, target_names=label_encoder.classes_))\n"
   ]
  },
  {
   "cell_type": "markdown",
   "metadata": {},
   "source": [
    "# Guardando Modelo entrenado"
   ]
  },
  {
   "cell_type": "code",
   "execution_count": 9,
   "metadata": {},
   "outputs": [
    {
     "data": {
      "text/plain": [
       "('./my_model/tokenizer_config.json',\n",
       " './my_model/special_tokens_map.json',\n",
       " './my_model/vocab.txt',\n",
       " './my_model/added_tokens.json')"
      ]
     },
     "execution_count": 9,
     "metadata": {},
     "output_type": "execute_result"
    }
   ],
   "source": [
    "model.save_pretrained('./my_model')\n",
    "tokenizer.save_pretrained('./my_model')"
   ]
  },
  {
   "cell_type": "markdown",
   "metadata": {},
   "source": [
    "## Cargando modelo y clasificando"
   ]
  },
  {
   "cell_type": "code",
   "execution_count": 6,
   "metadata": {},
   "outputs": [
    {
     "ename": "OSError",
     "evalue": "Error no file named pytorch_model.bin, model.safetensors, tf_model.h5, model.ckpt.index or flax_model.msgpack found in directory ./my_model.",
     "output_type": "error",
     "traceback": [
      "\u001b[0;31m---------------------------------------------------------------------------\u001b[0m",
      "\u001b[0;31mOSError\u001b[0m                                   Traceback (most recent call last)",
      "Cell \u001b[0;32mIn[6], line 8\u001b[0m\n\u001b[1;32m      6\u001b[0m \u001b[38;5;66;03m# Cargar el tokenizador y el modelo\u001b[39;00m\n\u001b[1;32m      7\u001b[0m tokenizer \u001b[38;5;241m=\u001b[39m BertTokenizer\u001b[38;5;241m.\u001b[39mfrom_pretrained(\u001b[38;5;124m'\u001b[39m\u001b[38;5;124m./my_model\u001b[39m\u001b[38;5;124m'\u001b[39m)\n\u001b[0;32m----> 8\u001b[0m model \u001b[38;5;241m=\u001b[39m \u001b[43mBertForSequenceClassification\u001b[49m\u001b[38;5;241;43m.\u001b[39;49m\u001b[43mfrom_pretrained\u001b[49m\u001b[43m(\u001b[49m\u001b[38;5;124;43m'\u001b[39;49m\u001b[38;5;124;43m./my_model\u001b[39;49m\u001b[38;5;124;43m'\u001b[39;49m\u001b[43m)\u001b[49m\n\u001b[1;32m     10\u001b[0m \u001b[38;5;66;03m# Cargar el LabelEncoder (Asegúrate de que es el mismo usado durante el entrenamiento)\u001b[39;00m\n\u001b[1;32m     11\u001b[0m df_original \u001b[38;5;241m=\u001b[39m pd\u001b[38;5;241m.\u001b[39mread_csv(\u001b[38;5;124m\"\u001b[39m\u001b[38;5;124mtweets_better_classified.csv\u001b[39m\u001b[38;5;124m\"\u001b[39m)  \u001b[38;5;66;03m# Dataset original para recuperar las etiquetas\u001b[39;00m\n",
      "File \u001b[0;32m~/Library/Python/3.9/lib/python/site-packages/transformers/modeling_utils.py:3305\u001b[0m, in \u001b[0;36mPreTrainedModel.from_pretrained\u001b[0;34m(cls, pretrained_model_name_or_path, config, cache_dir, ignore_mismatched_sizes, force_download, local_files_only, token, revision, use_safetensors, *model_args, **kwargs)\u001b[0m\n\u001b[1;32m   3300\u001b[0m         \u001b[38;5;28;01mraise\u001b[39;00m \u001b[38;5;167;01mEnvironmentError\u001b[39;00m(\n\u001b[1;32m   3301\u001b[0m             \u001b[38;5;124mf\u001b[39m\u001b[38;5;124m\"\u001b[39m\u001b[38;5;124mError no file named \u001b[39m\u001b[38;5;132;01m{\u001b[39;00m_add_variant(SAFE_WEIGHTS_NAME,\u001b[38;5;250m \u001b[39mvariant)\u001b[38;5;132;01m}\u001b[39;00m\u001b[38;5;124m found in directory\u001b[39m\u001b[38;5;124m\"\u001b[39m\n\u001b[1;32m   3302\u001b[0m             \u001b[38;5;124mf\u001b[39m\u001b[38;5;124m\"\u001b[39m\u001b[38;5;124m \u001b[39m\u001b[38;5;132;01m{\u001b[39;00mpretrained_model_name_or_path\u001b[38;5;132;01m}\u001b[39;00m\u001b[38;5;124m.\u001b[39m\u001b[38;5;124m\"\u001b[39m\n\u001b[1;32m   3303\u001b[0m         )\n\u001b[1;32m   3304\u001b[0m     \u001b[38;5;28;01melse\u001b[39;00m:\n\u001b[0;32m-> 3305\u001b[0m         \u001b[38;5;28;01mraise\u001b[39;00m \u001b[38;5;167;01mEnvironmentError\u001b[39;00m(\n\u001b[1;32m   3306\u001b[0m             \u001b[38;5;124mf\u001b[39m\u001b[38;5;124m\"\u001b[39m\u001b[38;5;124mError no file named \u001b[39m\u001b[38;5;132;01m{\u001b[39;00m_add_variant(WEIGHTS_NAME,\u001b[38;5;250m \u001b[39mvariant)\u001b[38;5;132;01m}\u001b[39;00m\u001b[38;5;124m, \u001b[39m\u001b[38;5;132;01m{\u001b[39;00m_add_variant(SAFE_WEIGHTS_NAME,\u001b[38;5;250m \u001b[39mvariant)\u001b[38;5;132;01m}\u001b[39;00m\u001b[38;5;124m,\u001b[39m\u001b[38;5;124m\"\u001b[39m\n\u001b[1;32m   3307\u001b[0m             \u001b[38;5;124mf\u001b[39m\u001b[38;5;124m\"\u001b[39m\u001b[38;5;124m \u001b[39m\u001b[38;5;132;01m{\u001b[39;00mTF2_WEIGHTS_NAME\u001b[38;5;132;01m}\u001b[39;00m\u001b[38;5;124m, \u001b[39m\u001b[38;5;132;01m{\u001b[39;00mTF_WEIGHTS_NAME\u001b[38;5;250m \u001b[39m\u001b[38;5;241m+\u001b[39m\u001b[38;5;250m \u001b[39m\u001b[38;5;124m'\u001b[39m\u001b[38;5;124m.index\u001b[39m\u001b[38;5;124m'\u001b[39m\u001b[38;5;132;01m}\u001b[39;00m\u001b[38;5;124m or \u001b[39m\u001b[38;5;132;01m{\u001b[39;00mFLAX_WEIGHTS_NAME\u001b[38;5;132;01m}\u001b[39;00m\u001b[38;5;124m found in directory\u001b[39m\u001b[38;5;124m\"\u001b[39m\n\u001b[1;32m   3308\u001b[0m             \u001b[38;5;124mf\u001b[39m\u001b[38;5;124m\"\u001b[39m\u001b[38;5;124m \u001b[39m\u001b[38;5;132;01m{\u001b[39;00mpretrained_model_name_or_path\u001b[38;5;132;01m}\u001b[39;00m\u001b[38;5;124m.\u001b[39m\u001b[38;5;124m\"\u001b[39m\n\u001b[1;32m   3309\u001b[0m         )\n\u001b[1;32m   3310\u001b[0m \u001b[38;5;28;01melif\u001b[39;00m os\u001b[38;5;241m.\u001b[39mpath\u001b[38;5;241m.\u001b[39misfile(os\u001b[38;5;241m.\u001b[39mpath\u001b[38;5;241m.\u001b[39mjoin(subfolder, pretrained_model_name_or_path)):\n\u001b[1;32m   3311\u001b[0m     archive_file \u001b[38;5;241m=\u001b[39m pretrained_model_name_or_path\n",
      "\u001b[0;31mOSError\u001b[0m: Error no file named pytorch_model.bin, model.safetensors, tf_model.h5, model.ckpt.index or flax_model.msgpack found in directory ./my_model."
     ]
    }
   ],
   "source": [
    "from transformers import BertTokenizer, BertForSequenceClassification\n",
    "import torch\n",
    "from sklearn.preprocessing import LabelEncoder\n",
    "import pandas as pd\n",
    "\n",
    "# Cargar el tokenizador y el modelo\n",
    "tokenizer = BertTokenizer.from_pretrained('./my_model')\n",
    "model = BertForSequenceClassification.from_pretrained('./my_model')\n",
    "\n",
    "# Cargar el LabelEncoder (Asegúrate de que es el mismo usado durante el entrenamiento)\n",
    "df_original = pd.read_csv(\"tweets_better_classified.csv\")  # Dataset original para recuperar las etiquetas\n",
    "label_encoder = LabelEncoder()\n",
    "label_encoder.fit(df_original['Tipo'])  # Ajusta 'Tipo' a la columna de etiquetas original\n",
    "\n",
    "# Cargar el dataset filtrado\n",
    "df_filtered = pd.read_csv(\"tweets_globales_filtrados.csv\")\n",
    "\n",
    "# Define una función para predecir nuevos textos\n",
    "def predict_new_text(text):\n",
    "    # Tokenizar el texto\n",
    "    inputs = tokenizer(text, return_tensors=\"pt\", truncation=True, padding=True, max_length=128)\n",
    "\n",
    "    # Asegúrate de mover el modelo y los inputs a la GPU si está disponible\n",
    "    device = torch.device('cuda') if torch.cuda.is_available() else torch.device('cpu')\n",
    "    model.to(device)\n",
    "    inputs = {key: val.to(device) for key, val in inputs.items()}\n",
    "\n",
    "    # Hacer la predicción\n",
    "    model.eval()\n",
    "    with torch.no_grad():\n",
    "        outputs = model(**inputs)\n",
    "        logits = outputs.logits\n",
    "\n",
    "    # Obtener la clase predicha\n",
    "    predicted_class = torch.argmax(logits, dim=1).item()\n",
    "\n",
    "    # Decodificar la etiqueta predicha\n",
    "    predicted_label = label_encoder.inverse_transform([predicted_class])\n",
    "\n",
    "    return predicted_label[0]\n",
    "\n",
    "# Predecir etiquetas para la columna 'texto' y almacenarlas en una nueva columna 'Tipo'\n",
    "df_filtered['Tipo'] = df_filtered['Texto'].apply(predict_new_text)\n",
    "\n",
    "# Guardar el nuevo DataFrame en un archivo CSV\n",
    "df_filtered.to_csv(\"tweets_globales_clasificados.csv\", index=False)\n",
    "\n",
    "print(\"Archivo 'tweets_classified.csv' guardado con las etiquetas predichas.\")\n"
   ]
  },
  {
   "cell_type": "code",
   "execution_count": 32,
   "metadata": {},
   "outputs": [
    {
     "data": {
      "image/png": "[encoded data removed]",
      "text/plain": [
       "<Figure size 640x480 with 1 Axes>"
      ]
     },
     "metadata": {},
     "output_type": "display_data"
    }
   ],
   "source": [
    "tweets_clean_classified = \"tweets_classified.csv\"\n",
    "df_tweets_clean_fil = pd.read_csv(tweets_clean_classified)\n",
    "\n",
    "tipo_counts = df_tweets_clean_fil['Tipo'].value_counts()\n",
    "\n",
    "# Creación del histograma\n",
    "tipo_counts.plot(kind='bar', color='skyblue')\n",
    "plt.xlabel('Clasificación')\n",
    "plt.ylabel('Frecuencia')\n",
    "plt.title('Clasificaciones de los tweets')\n",
    "plt.show()"
   ]
  },
  {
   "cell_type": "code",
   "execution_count": 31,
   "metadata": {},
   "outputs": [],
   "source": [
    "classified = pd.read_csv('tweets_classified.csv')\n",
    "classified=classified[['Texto', 'Tipo']]"
   ]
  },
  {
   "cell_type": "code",
   "execution_count": 16,
   "metadata": {},
   "outputs": [
    {
     "name": "stderr",
     "output_type": "stream",
     "text": [
      "[nltk_data] Downloading package stopwords to\n",
      "[nltk_data]     /Users/Daniel/nltk_data...\n",
      "[nltk_data]   Package stopwords is already up-to-date!\n"
     ]
    },
    {
     "name": "stdout",
     "output_type": "stream",
     "text": [
      "lluvia: 1261\n",
      "alberto: 400\n",
      "zona: 375\n",
      "inundación: 372\n",
      "monterrey: 270\n",
      "fuerte: 261\n",
      "nl: 257\n",
      "incendio: 234\n",
      "precaución: 226\n",
      "nuevo: 210\n",
      "presa: 203\n",
      "mm: 202\n",
      "av: 199\n",
      "accidente: 197\n",
      "reporte: 197\n",
      "almacenamiento: 195\n",
      "león: 188\n",
      "atender: 179\n",
      "día: 161\n",
      "tormenta: 149\n",
      "reportar: 143\n",
      "santa: 142\n",
      "estación: 140\n",
      "spgg: 138\n",
      "bombero: 130\n",
      "agua: 128\n",
      "boca: 127\n",
      "río: 124\n",
      "colonia: 120\n",
      "altura: 120\n",
      "catarina: 117\n",
      "medio: 117\n",
      "seguir: 116\n",
      "san: 112\n",
      "próximo: 110\n",
      "tras: 109\n",
      "información: 106\n",
      "riesgo: 106\n",
      "intenso: 104\n",
      "hora: 104\n",
      "vial: 102\n",
      "civil: 101\n",
      "bajo: 100\n",
      "así: 99\n",
      "nivel: 99\n",
      "sur: 97\n",
      "prieto: 97\n",
      "pcsp: 96\n",
      "encontrar: 95\n",
      "avenida: 95\n"
     ]
    }
   ],
   "source": [
    "import pandas as pd\n",
    "import re\n",
    "import nltk\n",
    "from nltk.corpus import stopwords\n",
    "from collections import Counter\n",
    "import spacy\n",
    "\n",
    "# Descargar stopwords en español\n",
    "nltk.download('stopwords')\n",
    "stop_words = set(stopwords.words('spanish'))\n",
    "\n",
    "# Cargar el modelo de spaCy para español\n",
    "nlp = spacy.load('es_core_news_sm')\n",
    "\n",
    "# Cargar el dataset\n",
    "df = pd.read_csv('tweets_filtered_global.csv')\n",
    "\n",
    "# Función para preprocesar el texto\n",
    "def preprocess_text(text):\n",
    "    text = text.lower()  # Convertir a minúsculas\n",
    "    text = re.sub(r'[^\\w\\s]', '', text)  # Eliminar puntuación\n",
    "    return text\n",
    "\n",
    "# Función para lematizar y eliminar stopwords\n",
    "def lemmatize_and_remove_stopwords(text):\n",
    "    doc = nlp(text)\n",
    "    lemmatized_words = [token.lemma_ for token in doc if token.text not in stop_words and not token.is_punct]\n",
    "    return lemmatized_words\n",
    "\n",
    "# Concatenar todos los textos en una sola cadena\n",
    "all_texts = ' '.join(df['Texto'].astype(str))\n",
    "\n",
    "# Preprocesar el texto\n",
    "processed_text = preprocess_text(all_texts)\n",
    "\n",
    "# Lematizar y eliminar stopwords\n",
    "lemmatized_words = lemmatize_and_remove_stopwords(processed_text)\n",
    "\n",
    "# Contar las raíces de las palabras\n",
    "word_counts = Counter(lemmatized_words)\n",
    "\n",
    "# Mostrar las palabras más comunes\n",
    "for word, count in word_counts.most_common(50):  # Muestra las 10 palabras más comunes\n",
    "    print(f'{word}: {count}')\n"
   ]
  },
  {
   "cell_type": "code",
   "execution_count": 20,
   "metadata": {},
   "outputs": [
    {
     "name": "stderr",
     "output_type": "stream",
     "text": [
      "[nltk_data] Downloading package stopwords to\n",
      "[nltk_data]     /Users/Daniel/nltk_data...\n",
      "[nltk_data]   Package stopwords is already up-to-date!\n"
     ]
    },
    {
     "data": {
      "image/png": "[encoded data removed]",
      "text/plain": [
       "<Figure size 1200x800 with 1 Axes>"
      ]
     },
     "metadata": {},
     "output_type": "display_data"
    }
   ],
   "source": [
    "import pandas as pd\n",
    "import re\n",
    "import nltk\n",
    "from nltk.corpus import stopwords\n",
    "from collections import Counter\n",
    "import spacy\n",
    "import matplotlib.pyplot as plt\n",
    "\n",
    "# Descargar stopwords en español\n",
    "nltk.download('stopwords')\n",
    "stop_words = set(stopwords.words('spanish'))\n",
    "\n",
    "# Cargar el modelo de spaCy para español\n",
    "nlp = spacy.load('es_core_news_sm')\n",
    "\n",
    "# Cargar el dataset\n",
    "df = pd.read_csv('tweets_filtered_global.csv')\n",
    "\n",
    "# Función para preprocesar el texto\n",
    "def preprocess_text(text):\n",
    "    text = text.lower()  # Convertir a minúsculas\n",
    "    text = re.sub(r'[^\\w\\s]', '', text)  # Eliminar puntuación\n",
    "    return text\n",
    "\n",
    "# Función para lematizar y eliminar stopwords\n",
    "def lemmatize_and_remove_stopwords(text):\n",
    "    doc = nlp(text)\n",
    "    lemmatized_words = [token.lemma_ for token in doc if token.text not in stop_words and not token.is_punct]\n",
    "    return lemmatized_words\n",
    "\n",
    "# Concatenar todos los textos en una sola cadena\n",
    "all_texts = ' '.join(df['Texto'].astype(str))\n",
    "\n",
    "# Preprocesar el texto\n",
    "processed_text = preprocess_text(all_texts)\n",
    "\n",
    "# Lematizar y eliminar stopwords\n",
    "lemmatized_words = lemmatize_and_remove_stopwords(processed_text)\n",
    "\n",
    "# Contar las raíces de las palabras\n",
    "word_counts = Counter(lemmatized_words)\n",
    "\n",
    "# Mostrar las palabras más comunes\n",
    "most_common_words = word_counts.most_common(20)  # Muestra las 50 palabras más comunes\n",
    "\n",
    "# Preparar datos para la gráfica\n",
    "words, counts = zip(*most_common_words)\n",
    "\n",
    "# Crear la gráfica\n",
    "plt.figure(figsize=(12, 8))\n",
    "plt.barh(words, counts, color='skyblue')\n",
    "plt.xlabel('Frecuencia')\n",
    "plt.title('Top 20 Palabras Más Comunes en el Dataset de Tweets')\n",
    "plt.gca().invert_yaxis()  # Para que la palabra más frecuente esté en la parte superior\n",
    "plt.show()\n"
   ]
  },
  {
   "cell_type": "markdown",
   "metadata": {},
   "source": [
    "# Calificando"
   ]
  },
  {
   "cell_type": "code",
   "execution_count": 2,
   "metadata": {},
   "outputs": [
    {
     "name": "stderr",
     "output_type": "stream",
     "text": [
      "/Users/Daniel/Library/Python/3.9/lib/python/site-packages/urllib3/__init__.py:35: NotOpenSSLWarning: urllib3 v2 only supports OpenSSL 1.1.1+, currently the 'ssl' module is compiled with 'LibreSSL 2.8.3'. See: https://github.com/urllib3/urllib3/issues/3020\n",
      "  warnings.warn(\n",
      "/Users/Daniel/Library/Python/3.9/lib/python/site-packages/tqdm/auto.py:21: TqdmWarning: IProgress not found. Please update jupyter and ipywidgets. See https://ipywidgets.readthedocs.io/en/stable/user_install.html\n",
      "  from .autonotebook import tqdm as notebook_tqdm\n",
      "2024-09-05 11:49:13.939041: I tensorflow/core/platform/cpu_feature_guard.cc:210] This TensorFlow binary is optimized to use available CPU instructions in performance-critical operations.\n",
      "To enable the following instructions: AVX2 FMA, in other operations, rebuild TensorFlow with the appropriate compiler flags.\n"
     ]
    }
   ],
   "source": [
    "import pandas as pd\n",
    "import numpy as np\n",
    "from sklearn.model_selection import train_test_split\n",
    "from sklearn.preprocessing import LabelEncoder\n",
    "from sklearn.metrics import classification_report\n",
    "from transformers import BertTokenizer, BertForSequenceClassification\n",
    "from transformers import Trainer, TrainingArguments\n",
    "import torch"
   ]
  },
  {
   "cell_type": "code",
   "execution_count": 5,
   "metadata": {},
   "outputs": [
    {
     "name": "stderr",
     "output_type": "stream",
     "text": [
      "Some weights of BertForSequenceClassification were not initialized from the model checkpoint at bert-base-uncased and are newly initialized: ['classifier.bias', 'classifier.weight']\n",
      "You should probably TRAIN this model on a down-stream task to be able to use it for predictions and inference.\n",
      "  1%|▏         | 2/140 [05:21<6:10:03, 160.90s/it]\n",
      " 14%|█▍        | 10/70 [03:26<24:42, 24.71s/it]\n",
      " 14%|█▍        | 10/70 [03:27<24:42, 24.71s/it]"
     ]
    },
    {
     "name": "stdout",
     "output_type": "stream",
     "text": [
      "{'loss': 1.3334, 'grad_norm': 3.4261844158172607, 'learning_rate': 1.0000000000000002e-06, 'epoch': 0.71}\n"
     ]
    },
    {
     "name": "stderr",
     "output_type": "stream",
     "text": [
      " 29%|██▊       | 20/70 [06:17<13:14, 15.88s/it]\n",
      " 29%|██▊       | 20/70 [06:17<13:14, 15.88s/it]"
     ]
    },
    {
     "name": "stdout",
     "output_type": "stream",
     "text": [
      "{'loss': 1.3588, 'grad_norm': 4.824686050415039, 'learning_rate': 2.0000000000000003e-06, 'epoch': 1.43}\n"
     ]
    },
    {
     "name": "stderr",
     "output_type": "stream",
     "text": [
      " 43%|████▎     | 30/70 [07:58<06:23,  9.60s/it]\n",
      " 43%|████▎     | 30/70 [07:58<06:23,  9.60s/it]"
     ]
    },
    {
     "name": "stdout",
     "output_type": "stream",
     "text": [
      "{'loss': 1.3124, 'grad_norm': 4.040501594543457, 'learning_rate': 3e-06, 'epoch': 2.14}\n"
     ]
    },
    {
     "name": "stderr",
     "output_type": "stream",
     "text": [
      " 57%|█████▋    | 40/70 [09:35<05:04, 10.14s/it]\n",
      " 57%|█████▋    | 40/70 [09:35<05:04, 10.14s/it]"
     ]
    },
    {
     "name": "stdout",
     "output_type": "stream",
     "text": [
      "{'loss': 1.3084, 'grad_norm': 9.327106475830078, 'learning_rate': 4.000000000000001e-06, 'epoch': 2.86}\n"
     ]
    },
    {
     "name": "stderr",
     "output_type": "stream",
     "text": [
      " 71%|███████▏  | 50/70 [10:58<02:48,  8.41s/it]\n",
      " 71%|███████▏  | 50/70 [10:58<02:48,  8.41s/it]"
     ]
    },
    {
     "name": "stdout",
     "output_type": "stream",
     "text": [
      "{'loss': 1.2867, 'grad_norm': 4.351668357849121, 'learning_rate': 5e-06, 'epoch': 3.57}\n"
     ]
    },
    {
     "name": "stderr",
     "output_type": "stream",
     "text": [
      " 86%|████████▌ | 60/70 [12:17<01:18,  7.86s/it]\n",
      " 86%|████████▌ | 60/70 [12:17<01:18,  7.86s/it]"
     ]
    },
    {
     "name": "stdout",
     "output_type": "stream",
     "text": [
      "{'loss': 1.2414, 'grad_norm': 6.379819869995117, 'learning_rate': 6e-06, 'epoch': 4.29}\n"
     ]
    },
    {
     "name": "stderr",
     "output_type": "stream",
     "text": [
      "100%|██████████| 70/70 [13:34<00:00,  6.83s/it]\n",
      "100%|██████████| 70/70 [13:34<00:00,  6.83s/it]\n",
      "100%|██████████| 70/70 [13:34<00:00, 11.64s/it]\n"
     ]
    },
    {
     "name": "stdout",
     "output_type": "stream",
     "text": [
      "{'loss': 1.2066, 'grad_norm': 11.151424407958984, 'learning_rate': 7.000000000000001e-06, 'epoch': 5.0}\n",
      "{'train_runtime': 814.3496, 'train_samples_per_second': 1.314, 'train_steps_per_second': 0.086, 'train_loss': 1.2925269535609654, 'epoch': 5.0}\n"
     ]
    },
    {
     "name": "stderr",
     "output_type": "stream",
     "text": [
      "100%|██████████| 2/2 [00:03<00:00,  1.93s/it]\n"
     ]
    },
    {
     "name": "stdout",
     "output_type": "stream",
     "text": [
      "              precision    recall  f1-score   support\n",
      "\n",
      "           1       0.57      0.77      0.66        30\n",
      "           2       0.49      0.79      0.60        33\n",
      "           3       0.00      0.00      0.00        19\n",
      "           4       0.00      0.00      0.00        11\n",
      "\n",
      "    accuracy                           0.53        93\n",
      "   macro avg       0.27      0.39      0.32        93\n",
      "weighted avg       0.36      0.53      0.43        93\n",
      "\n"
     ]
    },
    {
     "name": "stderr",
     "output_type": "stream",
     "text": [
      "/Users/Daniel/Library/Python/3.9/lib/python/site-packages/sklearn/metrics/_classification.py:1531: UndefinedMetricWarning: Precision is ill-defined and being set to 0.0 in labels with no predicted samples. Use `zero_division` parameter to control this behavior.\n",
      "  _warn_prf(average, modifier, f\"{metric.capitalize()} is\", len(result))\n",
      "/Users/Daniel/Library/Python/3.9/lib/python/site-packages/sklearn/metrics/_classification.py:1531: UndefinedMetricWarning: Precision is ill-defined and being set to 0.0 in labels with no predicted samples. Use `zero_division` parameter to control this behavior.\n",
      "  _warn_prf(average, modifier, f\"{metric.capitalize()} is\", len(result))\n",
      "/Users/Daniel/Library/Python/3.9/lib/python/site-packages/sklearn/metrics/_classification.py:1531: UndefinedMetricWarning: Precision is ill-defined and being set to 0.0 in labels with no predicted samples. Use `zero_division` parameter to control this behavior.\n",
      "  _warn_prf(average, modifier, f\"{metric.capitalize()} is\", len(result))\n"
     ]
    }
   ],
   "source": [
    "\n",
    "# Cargar el dataset\n",
    "df = pd.read_csv(\"daño_tweets_22.csv\")\n",
    "\n",
    "# Convertir los datos de la columna 'Nivel' a strings\n",
    "df['Nivel'] = df['Nivel'].astype(str)\n",
    "\n",
    "# Luego, procede con la codificación de etiquetas\n",
    "label_encoder = LabelEncoder()\n",
    "df['label'] = label_encoder.fit_transform(df['Nivel']) \n",
    "\n",
    "\n",
    "# Dividir el dataset en entrenamiento y prueba\n",
    "train, test = train_test_split(df, test_size=0.3, random_state=42)\n",
    "\n",
    "# Inicializar el tokenizer BERT\n",
    "tokenizer = BertTokenizer.from_pretrained(\"bert-base-uncased\")\n",
    "\n",
    "# Función para tokenizar los textos\n",
    "def tokenize_function(examples):\n",
    "    return tokenizer(examples['Texto'], padding=\"max_length\", truncation=True, max_length=128)\n",
    "\n",
    "# Aplicar el tokenizer a los datos de entrenamiento y prueba\n",
    "train_encodings = tokenizer(list(train['Texto'].values), truncation=True, padding=True, max_length=128)\n",
    "test_encodings = tokenizer(list(test['Texto'].values), truncation=True, padding=True, max_length=128)\n",
    "\n",
    "# Convertir las etiquetas en tensores\n",
    "train_labels = torch.tensor(train['label'].values)\n",
    "test_labels = torch.tensor(test['label'].values)\n",
    "\n",
    "# Crear un dataset personalizado\n",
    "class TweetDataset(torch.utils.data.Dataset):\n",
    "    def __init__(self, encodings, labels):\n",
    "        self.encodings = encodings\n",
    "        self.labels = labels\n",
    "\n",
    "    def __getitem__(self, idx):\n",
    "        item = {key: torch.tensor(val[idx]) for key, val in self.encodings.items()}\n",
    "        item['labels'] = self.labels[idx]\n",
    "        return item\n",
    "\n",
    "    def __len__(self):\n",
    "        return len(self.labels)\n",
    "\n",
    "train_dataset = TweetDataset(train_encodings, train_labels)\n",
    "test_dataset = TweetDataset(test_encodings, test_labels)\n",
    "\n",
    "# Cargar el modelo BERT para clasificación de secuencias\n",
    "model = BertForSequenceClassification.from_pretrained(\"bert-base-uncased\", num_labels=4)  \n",
    "\n",
    "# Definir los argumentos del entrenamiento\n",
    "training_args = TrainingArguments(\n",
    "    output_dir='./results',          # Directorio para guardar los resultados\n",
    "    num_train_epochs=5,              # Número de épocas\n",
    "    per_device_train_batch_size=16,  # Tamaño del lote en entrenamiento\n",
    "    per_device_eval_batch_size=64,   # Tamaño del lote en evaluación\n",
    "    warmup_steps=500,                # Número de pasos para warmup\n",
    "    weight_decay=0.01,               # Tasa de decaimiento del peso\n",
    "    logging_dir='./logs',            # Directorio para guardar los logs\n",
    "    logging_steps=10,\n",
    ")\n",
    "\n",
    "# Crear el Trainer\n",
    "trainer = Trainer(\n",
    "    model=model,\n",
    "    args=training_args,\n",
    "    train_dataset=train_dataset,\n",
    "    eval_dataset=test_dataset,\n",
    ")\n",
    "\n",
    "# Entrenar el modelo\n",
    "trainer.train()\n",
    "\n",
    "# Evaluar el modelo\n",
    "predictions = trainer.predict(test_dataset)\n",
    "preds = np.argmax(predictions.predictions, axis=1)\n",
    "\n",
    "# Reporte de clasificación\n",
    "print(classification_report(test_labels, preds, target_names=label_encoder.classes_))\n"
   ]
  }
 ],
 "metadata": {
  "kernelspec": {
   "display_name": "base",
   "language": "python",
   "name": "python3"
  },
  "language_info": {
   "codemirror_mode": {
    "name": "ipython",
    "version": 3
   },
   "file_extension": ".py",
   "mimetype": "text/x-python",
   "name": "python",
   "nbconvert_exporter": "python",
   "pygments_lexer": "ipython3",
   "version": "3.9.6"
  }
 },
 "nbformat": 4,
 "nbformat_minor": 2
}
