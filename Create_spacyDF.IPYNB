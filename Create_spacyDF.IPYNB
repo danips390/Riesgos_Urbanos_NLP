{
 "cells": [
  {
   "cell_type": "code",
   "execution_count": null,
   "metadata": {},
   "outputs": [],
   "source": [
    "import pandas as pd\n",
    "from collections import Counter\n",
    "import matplotlib.pyplot as plt\n",
    "\n",
    "nlp = spacy.load(\"D:\\home\\[00]_Projects\\[00]_Extracurricular\\Spacy\\model\")\n",
    "\n",
    "df = pd.read_csv(\"tweets_DEF_GOD.csv\")\n",
    "# Inicializar un Counter para contar las entidades\n",
    "ent_counter = Counter()\n",
    "\n",
    "# Crear una lista para almacenar las entidades de cada texto\n",
    "entidades_list = []\n",
    "\n",
    "# Procesar cada texto en la columna 'Texto'\n",
    "for texto in df['Texto']:\n",
    "    doc = nlp(texto)\n",
    "    entidades = [ent.text for ent in doc.ents]\n",
    "    entidades_list.append(entidades)\n",
    "    # Contar las entidades para el histograma\n",
    "    for ent in doc.ents:\n",
    "        ent_counter[ent.text] += 1\n",
    "\n",
    "# Añadir la columna 'entidades' al DataFrame\n",
    "df['entidades'] = entidades_list\n",
    "\n",
    "# Guardar el DataFrame con la nueva columna en un archivo CSV\n",
    "df.to_csv('df_con_entidades_TEST.csv', index=False)\n",
    "\n",
    "# Crear un histograma con las entidades más mencionadas\n",
    "most_common_ents = ent_counter.most_common(50)  \n",
    "# Separar las entidades y sus frecuencias\n",
    "entities, counts = zip(*most_common_ents)\n",
    "\n",
    "# Generar el histograma\n",
    "plt.figure(figsize=(10, 6))\n",
    "plt.bar(entities, counts)\n",
    "plt.xticks(rotation=45, ha='right')\n",
    "plt.title('Entidades más mencionadas')\n",
    "plt.xlabel('Entidades')\n",
    "plt.ylabel('Frecuencia')\n",
    "plt.show()"
   ]
  }
 ],
 "metadata": {
  "language_info": {
   "name": "python"
  }
 },
 "nbformat": 4,
 "nbformat_minor": 2
}
