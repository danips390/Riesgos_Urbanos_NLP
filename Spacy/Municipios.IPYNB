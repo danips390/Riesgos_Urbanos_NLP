{
 "cells": [
  {
   "cell_type": "code",
   "execution_count": 22,
   "metadata": {},
   "outputs": [
    {
     "name": "stdout",
     "output_type": "stream",
     "text": [
      " la coloni\n"
     ]
    }
   ],
   "source": [
    "import spacy\n",
    "from spacy.tokens import DocBin\n",
    "\n",
    "# Cargar el modelo de español grande\n",
    "nlp = spacy.load(\"es_core_news_lg\")\n",
    "\n",
    "# Probar con un texto de ejemplo\n",
    "doc = nlp(\"fuertes lluvias en la colonia bosques de la huasteca\")\n",
    "for ent in doc.ents:\n",
    "    print(ent.text, ent.label_)\n",
    "\n",
    "TRAIN_DATA = [\n",
    "    (\"cuidadodelagua sin suministro de agua en la colonia bosques de la huasteca, tengan precauacion\", {\n",
    "        \"entities\": [(44, 74, \"LOC\")]\n",
    "    })]\n",
    "\n",
    "# the DocBin will store the example documents\n",
    "db = DocBin()\n",
    "for text, annotations in training_data:\n",
    "    doc = nlp(text)\n",
    "    ents = []\n",
    "    for start, end, label in annotations:\n",
    "        span = doc.char_span(start, end, label=label)\n",
    "        ents.append(span)\n",
    "    doc.ents = ents\n",
    "    db.add(doc)\n",
    "db.to_disk(\"./train.spacy\")\n"
   ]
  },
  {
   "cell_type": "code",
   "execution_count": 33,
   "metadata": {},
   "outputs": [
    {
     "name": "stdout",
     "output_type": "stream",
     "text": [
      "colonia bosques de la huasteca\n",
      "bosques de la huasteca\n"
     ]
    }
   ],
   "source": [
    "\n",
    "st1 = \"cuidadodelagua sin suministro de agua en la colonia bosques de la huasteca santacatarina vía monterrey\"\n",
    "print(st[44:74])\n",
    "\n",
    "st2 = \"cuidadodelagua sin suministro de agua en la colonia bosques de la huasteca santacatarina vía monterrey\"\n",
    "print(st[52:74])\n"
   ]
  },
  {
   "cell_type": "code",
   "execution_count": null,
   "metadata": {},
   "outputs": [],
   "source": [
    "\n",
    "# the DocBin will store the example documents\n",
    "db = DocBin()\n",
    "for text, annotations in training_data:\n",
    "    doc = nlp(text)\n",
    "    ents = []\n",
    "    for start, end, label in annotations:\n",
    "        span = doc.char_span(start, end, label=label)\n",
    "        ents.append(span)\n",
    "    doc.ents = ents\n",
    "    db.add(doc)\n",
    "db.to_disk(\"./train.spacy\")"
   ]
  },
  {
   "cell_type": "code",
   "execution_count": null,
   "metadata": {},
   "outputs": [],
   "source": [
    "import spacy\n",
    "import random\n",
    "from spacy.training import Example\n",
    "from spacy.util import minibatch, compounding\n",
    "\n",
    "# Cargar el modelo base\n",
    "nlp = spacy.load(\"en_core_web_sm\")\n",
    "\n",
    "# Añadir la etiqueta si no existe en el modelo\n",
    "ner = nlp.get_pipe(\"ner\")\n",
    "ner.add_label(\"DINERO\")  # Ejemplo de una nueva etiqueta\n",
    "\n",
    "# Datos de entrenamiento\n",
    "TRAIN_DATA = [\n",
    "    (\"Apple is looking at buying U.K. startup for $1 billion\", {\n",
    "        \"entities\": [(0, 5, \"ORG\"), (27, 31, \"GPE\"), (44, 52, \"DINERO\")]\n",
    "    }),\n",
    "    (\"San Francisco considers banning sidewalk delivery robots\", {\n",
    "        \"entities\": [(0, 13, \"GPE\")]\n",
    "    }),\n",
    "    # Más ejemplos...\n",
    "]\n",
    "\n",
    "# Desactivar otros componentes del pipeline\n",
    "pipe_exceptions = [\"ner\"]\n",
    "unaffected_pipes = [pipe for pipe in nlp.pipe_names if pipe not in pipe_exceptions]\n",
    "\n",
    "# Entrenar el modelo\n",
    "with nlp.disable_pipes(*unaffected_pipes):  # Solo entrenar NER\n",
    "    optimizer = nlp.resume_training()\n",
    "    for itn in range(100):  # Número de iteraciones\n",
    "        random.shuffle(TRAIN_DATA)\n",
    "        losses = {}\n",
    "        # Lote a lote (minibatch)\n",
    "        batches = minibatch(TRAIN_DATA, size=compounding(4.0, 32.0, 1.001))\n",
    "        for batch in batches:\n",
    "            for text, annotations in batch:\n",
    "                # Crear un objeto Example\n",
    "                doc = nlp.make_doc(text)\n",
    "                example = Example.from_dict(doc, annotations)\n",
    "                nlp.update([example], sgd=optimizer, drop=0.35, losses=losses)\n",
    "        print(\"Losses\", losses)\n",
    "\n",
    "# Guardar el modelo entrenado\n",
    "nlp.to_disk(\"path_to_save_model\")\n"
   ]
  },
  {
   "cell_type": "code",
   "execution_count": 2,
   "metadata": {},
   "outputs": [],
   "source": [
    "import spacy\n",
    "import random\n",
    "from spacy.training import Example\n",
    "from spacy.util import minibatch, compounding\n",
    "\n",
    "# Cargar el modelo base\n",
    "nlp = spacy.load(\"es_core_news_lg\")\n"
   ]
  }
 ],
 "metadata": {
  "kernelspec": {
   "display_name": "Python 3",
   "language": "python",
   "name": "python3"
  },
  "language_info": {
   "codemirror_mode": {
    "name": "ipython",
    "version": 3
   },
   "file_extension": ".py",
   "mimetype": "text/x-python",
   "name": "python",
   "nbconvert_exporter": "python",
   "pygments_lexer": "ipython3",
   "version": "3.9.2"
  }
 },
 "nbformat": 4,
 "nbformat_minor": 2
}
