{
 "cells": [
  {
   "cell_type": "markdown",
   "metadata": {},
   "source": [
    "# Entrenamiento del modelo con los tweets pre-clasificados"
   ]
  },
  {
   "cell_type": "code",
   "execution_count": null,
   "metadata": {},
   "outputs": [],
   "source": [
    "import pandas as pd\n",
    "import numpy as np\n",
    "from sklearn.model_selection import train_test_split\n",
    "from sklearn.preprocessing import LabelEncoder\n",
    "from sklearn.metrics import classification_report\n",
    "from transformers import BertTokenizer, BertForSequenceClassification\n",
    "from transformers import Trainer, TrainingArguments\n",
    "import torch\n",
    "\n",
    "\n",
    "# Cargar el dataset\n",
    "df = pd.read_csv(\"tweets_better_classified.csv\")\n",
    "\n",
    "# Preprocesar las etiquetas\n",
    "label_encoder = LabelEncoder()\n",
    "df['label'] = label_encoder.fit_transform(df['Tipo'])  # Ajusta 'categoria' a la columna correspondiente\n",
    "\n",
    "# Dividir el dataset en entrenamiento y prueba\n",
    "train, test = train_test_split(df, test_size=0.2, random_state=42)\n",
    "\n",
    "# Inicializar el tokenizer BERT\n",
    "tokenizer = BertTokenizer.from_pretrained(\"bert-base-uncased\")\n",
    "\n",
    "# Función para tokenizar los textos\n",
    "def tokenize_function(examples):\n",
    "    return tokenizer(examples['Texto'], padding=\"max_length\", truncation=True, max_length=128)\n",
    "\n",
    "# Aplicar el tokenizer a los datos de entrenamiento y prueba\n",
    "train_encodings = tokenizer(list(train['Texto'].values), truncation=True, padding=True, max_length=128)\n",
    "test_encodings = tokenizer(list(test['Texto'].values), truncation=True, padding=True, max_length=128)\n",
    "\n",
    "# Convertir las etiquetas en tensores\n",
    "train_labels = torch.tensor(train['label'].values)\n",
    "test_labels = torch.tensor(test['label'].values)\n",
    "\n",
    "# Crear un dataset personalizado\n",
    "class TweetDataset(torch.utils.data.Dataset):\n",
    "    def __init__(self, encodings, labels):\n",
    "        self.encodings = encodings\n",
    "        self.labels = labels\n",
    "\n",
    "    def __getitem__(self, idx):\n",
    "        item = {key: torch.tensor(val[idx]) for key, val in self.encodings.items()}\n",
    "        item['labels'] = self.labels[idx]\n",
    "        return item\n",
    "\n",
    "    def __len__(self):\n",
    "        return len(self.labels)\n",
    "\n",
    "train_dataset = TweetDataset(train_encodings, train_labels)\n",
    "test_dataset = TweetDataset(test_encodings, test_labels)\n",
    "\n",
    "# Cargar el modelo BERT para clasificación de secuencias\n",
    "model = BertForSequenceClassification.from_pretrained(\"bert-base-uncased\", num_labels=4)  \n",
    "\n",
    "# Definir los argumentos del entrenamiento\n",
    "training_args = TrainingArguments(\n",
    "    output_dir='./results',          # Directorio para guardar los resultados\n",
    "    num_train_epochs=10,              # Número de épocas\n",
    "    per_device_train_batch_size=16,  # Tamaño del lote en entrenamiento\n",
    "    per_device_eval_batch_size=64,   # Tamaño del lote en evaluación\n",
    "    warmup_steps=500,                # Número de pasos para warmup\n",
    "    weight_decay=0.01,               # Tasa de decaimiento del peso\n",
    "    logging_dir='./logs',            # Directorio para guardar los logs\n",
    "    logging_steps=10,\n",
    ")\n",
    "\n",
    "# Crear el Trainer\n",
    "trainer = Trainer(\n",
    "    model=model,\n",
    "    args=training_args,\n",
    "    train_dataset=train_dataset,\n",
    "    eval_dataset=test_dataset,\n",
    ")\n",
    "\n",
    "# Entrenar el modelo\n",
    "trainer.train()\n",
    "\n",
    "# Evaluar el modelo\n",
    "predictions = trainer.predict(test_dataset)\n",
    "preds = np.argmax(predictions.predictions, axis=1)\n",
    "\n",
    "# Reporte de clasificación\n",
    "print(classification_report(test_labels, preds, target_names=label_encoder.classes_))\n"
   ]
  },
  {
   "cell_type": "code",
   "execution_count": null,
   "metadata": {},
   "outputs": [],
   "source": [
    "model.save_pretrained('./my_model')\n",
    "tokenizer.save_pretrained('./my_model')"
   ]
  },
  {
   "cell_type": "markdown",
   "metadata": {},
   "source": [
    "# Clasificando tweets con BERT pre-entrenado"
   ]
  },
  {
   "cell_type": "code",
   "execution_count": 7,
   "metadata": {},
   "outputs": [],
   "source": [
    "from transformers import BertTokenizer, BertForSequenceClassification\n",
    "import torch\n",
    "from sklearn.preprocessing import LabelEncoder\n",
    "import pandas as pd\n",
    "import pandas as pd\n",
    "import numpy as np\n",
    "from sklearn.model_selection import train_test_split\n",
    "from sklearn.preprocessing import LabelEncoder\n",
    "from sklearn.metrics import classification_report\n",
    "from transformers import BertTokenizer, BertForSequenceClassification\n",
    "from transformers import Trainer, TrainingArguments\n",
    "import torch\n"
   ]
  },
  {
   "cell_type": "code",
   "execution_count": 11,
   "metadata": {},
   "outputs": [
    {
     "name": "stdout",
     "output_type": "stream",
     "text": [
      "Archivo 'tweets_classified.csv' guardado con las etiquetas predichas.\n"
     ]
    }
   ],
   "source": [
    "\n",
    "# Cargar el tokenizador y el modelo\n",
    "tokenizer = BertTokenizer.from_pretrained('./my_model')\n",
    "model = BertForSequenceClassification.from_pretrained('./my_model')\n",
    "\n",
    "# Cargar el LabelEncoder (Asegúrate de que es el mismo usado durante el entrenamiento)\n",
    "df_original = pd.read_csv(\"tweets_better_classified.csv\")  # Dataset original para recuperar las etiquetas\n",
    "label_encoder = LabelEncoder()\n",
    "label_encoder.fit(df_original['Tipo'])  # Ajusta 'Tipo' a la columna de etiquetas original\n",
    "\n",
    "# Cargar el dataset filtrado\n",
    "df_filtered = pd.read_csv(\"tweets_globales_filtrados.csv\")\n",
    "\n",
    "# Define una función para predecir nuevos textos\n",
    "def predict_new_text(text):\n",
    "    # Tokenizar el texto\n",
    "    inputs = tokenizer(text, return_tensors=\"pt\", truncation=True, padding=True, max_length=128)\n",
    "\n",
    "    # Asegúrate de mover el modelo y los inputs a la GPU si está disponible\n",
    "    device = torch.device('cuda') if torch.cuda.is_available() else torch.device('cpu')\n",
    "    model.to(device)\n",
    "    inputs = {key: val.to(device) for key, val in inputs.items()}\n",
    "\n",
    "    # Hacer la predicción\n",
    "    model.eval()\n",
    "    with torch.no_grad():\n",
    "        outputs = model(**inputs)\n",
    "        logits = outputs.logits\n",
    "\n",
    "    # Obtener la clase predicha\n",
    "    predicted_class = torch.argmax(logits, dim=1).item()\n",
    "\n",
    "    # Decodificar la etiqueta predicha\n",
    "    predicted_label = label_encoder.inverse_transform([predicted_class])\n",
    "\n",
    "    return predicted_label[0]\n",
    "\n",
    "# Predecir etiquetas para la columna 'texto' y almacenarlas en una nueva columna 'Tipo'\n",
    "df_filtered['Tipo'] = df_filtered['Texto'].apply(predict_new_text)\n",
    "\n",
    "# Guardar el nuevo DataFrame en un archivo CSV\n",
    "df_filtered.to_csv(\"tweets_globales_clasificados.csv\", index=False)\n",
    "\n",
    "print(\"Archivo 'tweets_classified.csv' guardado con las etiquetas predichas.\")\n"
   ]
  },
  {
   "cell_type": "code",
   "execution_count": 13,
   "metadata": {},
   "outputs": [
    {
     "data": {
      "image/png": "[encoded data removed]",
      "text/plain": [
       "<Figure size 640x480 with 1 Axes>"
      ]
     },
     "metadata": {},
     "output_type": "display_data"
    }
   ],
   "source": [
    "import matplotlib.pyplot as plt\n",
    "tweets_clean_classified = \"tweets_globales_clasificados.csv\"\n",
    "df_tweets_clean_fil = pd.read_csv(tweets_clean_classified)\n",
    "\n",
    "tipo_counts = df_tweets_clean_fil['Tipo'].value_counts()\n",
    "\n",
    "# Creación del histograma\n",
    "tipo_counts.plot(kind='bar', color='skyblue')\n",
    "plt.xlabel('Clasificación')\n",
    "plt.ylabel('Frecuencia')\n",
    "plt.title('Clasificaciones de los tweets')\n",
    "plt.show()"
   ]
  },
  {
   "cell_type": "markdown",
   "metadata": {},
   "source": [
    "# Tweets multiclasificados"
   ]
  },
  {
   "cell_type": "code",
   "execution_count": 21,
   "metadata": {},
   "outputs": [
    {
     "name": "stdout",
     "output_type": "stream",
     "text": [
      "   eléctrico  incendio  inundación    lluvia  no se relaciona  problema vial  \\\n",
      "0   0.020568  0.022571    0.033255  0.009869          0.01463       0.899107   \n",
      "\n",
      "                                               Texto  \n",
      "0  Fuertes inundaciones accidente a en la avenida...  \n"
     ]
    }
   ],
   "source": [
    "import pandas as pd\n",
    "import numpy as np\n",
    "import torch\n",
    "from transformers import BertTokenizer, BertForSequenceClassification\n",
    "from sklearn.preprocessing import LabelEncoder\n",
    "from scipy.special import softmax\n",
    "\n",
    "# Cargar el modelo y el tokenizer pre-entrenado\n",
    "model = BertForSequenceClassification.from_pretrained('./my_model4')\n",
    "tokenizer = BertTokenizer.from_pretrained('./my_model4')\n",
    "\n",
    "# Definir un texto de ejemplo\n",
    "texto_ejemplo = \"Fuertes inundaciones accidente a en la avenida garza sada  en Monterrey\"\n",
    "\n",
    "# Tokenizar el texto\n",
    "inputs = tokenizer(texto_ejemplo, return_tensors=\"pt\", padding=True, truncation=True, max_length=128)\n",
    "\n",
    "# Asegurarse de que el modelo está en modo de evaluación\n",
    "model.eval()\n",
    "\n",
    "# Hacer la predicción (no se necesita calcular los gradientes)\n",
    "with torch.no_grad():\n",
    "    outputs = model(**inputs)\n",
    "\n",
    "# Obtener las logits y calcular las probabilidades con softmax\n",
    "logits = outputs.logits\n",
    "probabilidades = softmax(logits.numpy(), axis=1)[0]\n",
    "\n",
    "# Cargar el LabelEncoder para obtener las categorías\n",
    "df = pd.read_csv(\"df_tweets_procesados.csv\")\n",
    "label_encoder = LabelEncoder()\n",
    "df['label'] = label_encoder.fit_transform(df['Tipo'])\n",
    "\n",
    "# Obtener los nombres de las categorías\n",
    "categorias = label_encoder.classes_\n",
    "\n",
    "# Crear un nuevo DataFrame con las categorías y las probabilidades\n",
    "df_resultado = pd.DataFrame([probabilidades], columns=categorias)\n",
    "\n",
    "# Agregar el texto de ejemplo para referencia\n",
    "df_resultado['Texto'] = texto_ejemplo\n",
    "\n",
    "# Mostrar el DataFrame con las categorías y sus porcentajes de presencia\n",
    "print(df_resultado)"
   ]
  },
  {
   "cell_type": "markdown",
   "metadata": {},
   "source": [
    "# Segunda arquitectura"
   ]
  },
  {
   "cell_type": "markdown",
   "metadata": {},
   "source": [
    "# este es el nuevo clasificador!!!"
   ]
  },
  {
   "cell_type": "code",
   "execution_count": 45,
   "metadata": {},
   "outputs": [
    {
     "name": "stderr",
     "output_type": "stream",
     "text": [
      "Some weights of BertForSequenceClassification were not initialized from the model checkpoint at bert-base-uncased and are newly initialized: ['classifier.bias', 'classifier.weight']\n",
      "You should probably TRAIN this model on a down-stream task to be able to use it for predictions and inference.\n",
      "C:\\Users\\a00832699\\AppData\\Roaming\\Python\\Python312\\site-packages\\transformers\\training_args.py:1545: FutureWarning: `evaluation_strategy` is deprecated and will be removed in version 4.46 of 🤗 Transformers. Use `eval_strategy` instead\n",
      "  warnings.warn(\n",
      "  0%|          | 0/426 [00:00<?, ?it/s]C:\\Users\\a00832699\\AppData\\Local\\Temp\\ipykernel_14216\\941573390.py:39: UserWarning: To copy construct from a tensor, it is recommended to use sourceTensor.clone().detach() or sourceTensor.clone().detach().requires_grad_(True), rather than torch.tensor(sourceTensor).\n",
      "  item['labels'] = torch.tensor(self.labels[idx])\n",
      "                                                \n",
      " 12%|█▏        | 50/426 [01:26<10:53,  1.74s/it]   "
     ]
    },
    {
     "name": "stdout",
     "output_type": "stream",
     "text": [
      "{'loss': 1.671, 'grad_norm': 5.880342483520508, 'learning_rate': 1e-05, 'epoch': 0.35}\n"
     ]
    },
    {
     "name": "stderr",
     "output_type": "stream",
     "text": [
      "                                                 \n",
      " 23%|██▎       | 100/426 [02:55<09:46,  1.80s/it]  "
     ]
    },
    {
     "name": "stdout",
     "output_type": "stream",
     "text": [
      "{'loss': 1.3983, 'grad_norm': 5.004861831665039, 'learning_rate': 2e-05, 'epoch': 0.7}\n"
     ]
    },
    {
     "name": "stderr",
     "output_type": "stream",
     "text": [
      "\n",
      "\u001b[A\n",
      "\u001b[A\n",
      "\u001b[A\n",
      "\u001b[A\n",
      "\u001b[A\n",
      "\u001b[A\n",
      "\u001b[A\n",
      "\u001b[A\n",
      "\u001b[A\n",
      "\u001b[A\n",
      "\u001b[A\n",
      "\u001b[A\n",
      "\u001b[A\n",
      "\u001b[A\n",
      "\u001b[A\n",
      "\u001b[A\n",
      "\u001b[A\n",
      "\u001b[A\n",
      "\n",
      "                                                 \n",
      "\u001b[A                                                \n",
      " 23%|██▎       | 100/426 [03:14<09:46,  1.80s/it]\n",
      "\u001b[AC:\\Users\\a00832699\\AppData\\Local\\Temp\\ipykernel_14216\\941573390.py:39: UserWarning: To copy construct from a tensor, it is recommended to use sourceTensor.clone().detach() or sourceTensor.clone().detach().requires_grad_(True), rather than torch.tensor(sourceTensor).\n",
      "  item['labels'] = torch.tensor(self.labels[idx])\n"
     ]
    },
    {
     "name": "stdout",
     "output_type": "stream",
     "text": [
      "{'eval_loss': 1.1365094184875488, 'eval_accuracy': 0.6707964601769911, 'eval_runtime': 18.3804, 'eval_samples_per_second': 30.739, 'eval_steps_per_second': 0.979, 'epoch': 0.7}\n"
     ]
    },
    {
     "name": "stderr",
     "output_type": "stream",
     "text": [
      "                                                 \n",
      " 35%|███▌      | 150/426 [04:42<08:29,  1.85s/it]  "
     ]
    },
    {
     "name": "stdout",
     "output_type": "stream",
     "text": [
      "{'loss': 0.9411, 'grad_norm': 4.041423797607422, 'learning_rate': 1.6932515337423315e-05, 'epoch': 1.06}\n"
     ]
    },
    {
     "name": "stderr",
     "output_type": "stream",
     "text": [
      "                                                 \n",
      " 47%|████▋     | 200/426 [06:47<15:23,  4.09s/it]  "
     ]
    },
    {
     "name": "stdout",
     "output_type": "stream",
     "text": [
      "{'loss': 0.7253, 'grad_norm': 3.585031747817993, 'learning_rate': 1.3865030674846627e-05, 'epoch': 1.41}\n"
     ]
    },
    {
     "name": "stderr",
     "output_type": "stream",
     "text": [
      "\n",
      "\u001b[A\n",
      "\u001b[A\n",
      "\u001b[A\n",
      "\u001b[A\n",
      "\u001b[A\n",
      "\u001b[A\n",
      "\u001b[A\n",
      "\u001b[A\n",
      "\u001b[A\n",
      "\u001b[A\n",
      "\u001b[A\n",
      "\u001b[A\n",
      "\u001b[A\n",
      "\u001b[A\n",
      "\u001b[A\n",
      "\u001b[A\n",
      "\u001b[A\n",
      "\u001b[A\n",
      "\n",
      "                                                 \n",
      "\u001b[A                                                \n",
      " 47%|████▋     | 200/426 [07:29<15:23,  4.09s/it]\n",
      "\u001b[AC:\\Users\\a00832699\\AppData\\Local\\Temp\\ipykernel_14216\\941573390.py:39: UserWarning: To copy construct from a tensor, it is recommended to use sourceTensor.clone().detach() or sourceTensor.clone().detach().requires_grad_(True), rather than torch.tensor(sourceTensor).\n",
      "  item['labels'] = torch.tensor(self.labels[idx])\n"
     ]
    },
    {
     "name": "stdout",
     "output_type": "stream",
     "text": [
      "{'eval_loss': 0.5354270935058594, 'eval_accuracy': 0.8407079646017699, 'eval_runtime': 42.0585, 'eval_samples_per_second': 13.434, 'eval_steps_per_second': 0.428, 'epoch': 1.41}\n"
     ]
    },
    {
     "name": "stderr",
     "output_type": "stream",
     "text": [
      "                                                   \n",
      " 59%|█████▊    | 250/426 [09:43<05:01,  1.71s/it]  "
     ]
    },
    {
     "name": "stdout",
     "output_type": "stream",
     "text": [
      "{'loss': 0.5355, 'grad_norm': 6.749011993408203, 'learning_rate': 1.079754601226994e-05, 'epoch': 1.76}\n"
     ]
    },
    {
     "name": "stderr",
     "output_type": "stream",
     "text": [
      "                                                 \n",
      " 70%|███████   | 300/426 [11:09<03:43,  1.77s/it]  "
     ]
    },
    {
     "name": "stdout",
     "output_type": "stream",
     "text": [
      "{'loss': 0.413, 'grad_norm': 4.840836524963379, 'learning_rate': 7.730061349693252e-06, 'epoch': 2.11}\n"
     ]
    },
    {
     "name": "stderr",
     "output_type": "stream",
     "text": [
      "\n",
      "\u001b[A\n",
      "\u001b[A\n",
      "\u001b[A\n",
      "\u001b[A\n",
      "\u001b[A\n",
      "\u001b[A\n",
      "\u001b[A\n",
      "\u001b[A\n",
      "\u001b[A\n",
      "\u001b[A\n",
      "\u001b[A\n",
      "\u001b[A\n",
      "\u001b[A\n",
      "\u001b[A\n",
      "\u001b[A\n",
      "\u001b[A\n",
      "\u001b[A\n",
      "\u001b[A\n",
      "\n",
      "                                                 \n",
      "\u001b[A                                                \n",
      " 70%|███████   | 300/426 [11:28<03:43,  1.77s/it]\n",
      "\u001b[AC:\\Users\\a00832699\\AppData\\Local\\Temp\\ipykernel_14216\\941573390.py:39: UserWarning: To copy construct from a tensor, it is recommended to use sourceTensor.clone().detach() or sourceTensor.clone().detach().requires_grad_(True), rather than torch.tensor(sourceTensor).\n",
      "  item['labels'] = torch.tensor(self.labels[idx])\n"
     ]
    },
    {
     "name": "stdout",
     "output_type": "stream",
     "text": [
      "{'eval_loss': 0.3067410886287689, 'eval_accuracy': 0.9185840707964602, 'eval_runtime': 18.3101, 'eval_samples_per_second': 30.857, 'eval_steps_per_second': 0.983, 'epoch': 2.11}\n"
     ]
    },
    {
     "name": "stderr",
     "output_type": "stream",
     "text": [
      "                                                 \n",
      " 82%|████████▏ | 350/426 [12:57<02:16,  1.79s/it]  "
     ]
    },
    {
     "name": "stdout",
     "output_type": "stream",
     "text": [
      "{'loss': 0.2877, 'grad_norm': 1.0295826196670532, 'learning_rate': 4.662576687116564e-06, 'epoch': 2.46}\n"
     ]
    },
    {
     "name": "stderr",
     "output_type": "stream",
     "text": [
      "                                                 \n",
      " 94%|█████████▍| 400/426 [14:26<00:46,  1.79s/it]  "
     ]
    },
    {
     "name": "stdout",
     "output_type": "stream",
     "text": [
      "{'loss': 0.2689, 'grad_norm': 4.481869220733643, 'learning_rate': 1.5950920245398775e-06, 'epoch': 2.82}\n"
     ]
    },
    {
     "name": "stderr",
     "output_type": "stream",
     "text": [
      "\n",
      "\u001b[A\n",
      "\u001b[A\n",
      "\u001b[A\n",
      "\u001b[A\n",
      "\u001b[A\n",
      "\u001b[A\n",
      "\u001b[A\n",
      "\u001b[A\n",
      "\u001b[A\n",
      "\u001b[A\n",
      "\u001b[A\n",
      "\u001b[A\n",
      "\u001b[A\n",
      "\u001b[A\n",
      "\u001b[A\n",
      "\u001b[A\n",
      "\u001b[A\n",
      "\u001b[A\n",
      "\n",
      "                                                 \n",
      "\u001b[A                                                \n",
      " 94%|█████████▍| 400/426 [14:45<00:46,  1.79s/it]\n",
      "\u001b[AC:\\Users\\a00832699\\AppData\\Local\\Temp\\ipykernel_14216\\941573390.py:39: UserWarning: To copy construct from a tensor, it is recommended to use sourceTensor.clone().detach() or sourceTensor.clone().detach().requires_grad_(True), rather than torch.tensor(sourceTensor).\n",
      "  item['labels'] = torch.tensor(self.labels[idx])\n"
     ]
    },
    {
     "name": "stdout",
     "output_type": "stream",
     "text": [
      "{'eval_loss': 0.24593138694763184, 'eval_accuracy': 0.9309734513274336, 'eval_runtime': 18.4244, 'eval_samples_per_second': 30.666, 'eval_steps_per_second': 0.977, 'epoch': 2.82}\n"
     ]
    },
    {
     "name": "stderr",
     "output_type": "stream",
     "text": [
      "                                                 \n",
      "100%|██████████| 426/426 [15:31<00:00,  2.19s/it]  \n",
      "C:\\Users\\a00832699\\AppData\\Local\\Temp\\ipykernel_14216\\941573390.py:39: UserWarning: To copy construct from a tensor, it is recommended to use sourceTensor.clone().detach() or sourceTensor.clone().detach().requires_grad_(True), rather than torch.tensor(sourceTensor).\n",
      "  item['labels'] = torch.tensor(self.labels[idx])\n"
     ]
    },
    {
     "name": "stdout",
     "output_type": "stream",
     "text": [
      "{'train_runtime': 931.6598, 'train_samples_per_second': 7.277, 'train_steps_per_second': 0.457, 'train_loss': 0.7483531645206218, 'epoch': 3.0}\n"
     ]
    },
    {
     "name": "stderr",
     "output_type": "stream",
     "text": [
      "100%|██████████| 18/18 [00:17<00:00,  1.03it/s]\n"
     ]
    },
    {
     "name": "stdout",
     "output_type": "stream",
     "text": [
      "                 precision    recall  f1-score   support\n",
      "\n",
      "      eléctrico       0.87      0.85      0.86        62\n",
      "       incendio       0.94      0.94      0.94        47\n",
      "     inundación       0.93      1.00      0.97        57\n",
      "         lluvia       1.00      0.98      0.99       247\n",
      "no se relaciona       0.80      0.80      0.80        79\n",
      "  problema vial       0.92      0.95      0.93        73\n",
      "\n",
      "       accuracy                           0.93       565\n",
      "      macro avg       0.91      0.92      0.91       565\n",
      "   weighted avg       0.93      0.93      0.93       565\n",
      "\n"
     ]
    },
    {
     "data": {
      "text/plain": [
       "('./my_model6\\\\tokenizer_config.json',\n",
       " './my_model6\\\\special_tokens_map.json',\n",
       " './my_model6\\\\vocab.txt',\n",
       " './my_model6\\\\added_tokens.json')"
      ]
     },
     "execution_count": 45,
     "metadata": {},
     "output_type": "execute_result"
    }
   ],
   "source": [
    "import torch \n",
    "import numpy as np\n",
    "import pandas as pd\n",
    "from sklearn.model_selection import train_test_split\n",
    "from sklearn.preprocessing import LabelEncoder\n",
    "from transformers import BertTokenizer, BertForSequenceClassification, Trainer, TrainingArguments\n",
    "from sklearn.metrics import classification_report\n",
    "import evaluate\n",
    "\n",
    "# Cargar el dataset\n",
    "df = pd.read_csv(\"nuevo_archivo.csv\")\n",
    "\n",
    "# Preprocesar etiquetas\n",
    "label_encoder = LabelEncoder()\n",
    "df['label'] = label_encoder.fit_transform(df['Tipo'])  \n",
    "\n",
    "# Dividir el dataset en entrenamiento y prueba\n",
    "train, test = train_test_split(df, test_size=0.2, random_state=42)\n",
    "\n",
    "# Inicializar el tokenizer de BERT\n",
    "tokenizer = BertTokenizer.from_pretrained(\"bert-base-uncased\")\n",
    "\n",
    "# Tokenizar los textos (Asegúrate de que son strings)\n",
    "train_encodings = tokenizer(train['Texto'].astype(str).tolist(), truncation=True, padding=True, max_length=128)\n",
    "test_encodings = tokenizer(test['Texto'].astype(str).tolist(), truncation=True, padding=True, max_length=128)\n",
    "\n",
    "# Convertir las etiquetas a tensores\n",
    "train_labels = torch.tensor(train['label'].values)\n",
    "test_labels = torch.tensor(test['label'].values)\n",
    "\n",
    "# Crear dataset personalizado para el entrenamiento\n",
    "class TweetDataset(torch.utils.data.Dataset):\n",
    "    def __init__(self, encodings, labels):\n",
    "        self.encodings = encodings\n",
    "        self.labels = labels\n",
    "\n",
    "    def __getitem__(self, idx):\n",
    "        item = {key: torch.tensor(val[idx]) for key, val in self.encodings.items()}\n",
    "        item['labels'] = torch.tensor(self.labels[idx]) \n",
    "        return item\n",
    "\n",
    "    def __len__(self):\n",
    "        return len(self.labels)\n",
    "\n",
    "train_dataset = TweetDataset(train_encodings, train_labels)\n",
    "test_dataset = TweetDataset(test_encodings, test_labels)\n",
    "\n",
    "# Cargar el modelo preentrenado de BERT para clasificación de secuencias\n",
    "num_labels = len(label_encoder.classes_)\n",
    "model = BertForSequenceClassification.from_pretrained(\"bert-base-uncased\", num_labels=num_labels)\n",
    "\n",
    "# Cargar la métrica de accuracy desde la nueva biblioteca evaluate\n",
    "accuracy_metric = evaluate.load(\"accuracy\")\n",
    "\n",
    "def compute_metrics(eval_pred):\n",
    "    logits, labels = eval_pred\n",
    "    predictions = np.argmax(logits, axis=-1)\n",
    "    accuracy = accuracy_metric.compute(predictions=predictions, references=labels)\n",
    "    return {\"accuracy\": accuracy[\"accuracy\"]}\n",
    "\n",
    "# Definir los argumentos de entrenamiento\n",
    "training_args = TrainingArguments(\n",
    "    output_dir='./results',\n",
    "    num_train_epochs=3,\n",
    "    per_device_train_batch_size=16,\n",
    "    per_device_eval_batch_size=32,\n",
    "    warmup_steps=100,\n",
    "    weight_decay=0.01,\n",
    "    logging_dir='./logs',\n",
    "    logging_steps=50,\n",
    "    evaluation_strategy=\"steps\",\n",
    "    eval_steps=100,\n",
    "    save_total_limit=2,\n",
    "    load_best_model_at_end=True,\n",
    "    metric_for_best_model=\"accuracy\",  \n",
    "    greater_is_better=True,\n",
    "    learning_rate=2e-5\n",
    ")\n",
    "\n",
    "# Crear el Trainer para el modelo\n",
    "trainer = Trainer(\n",
    "    model=model,\n",
    "    args=training_args,\n",
    "    train_dataset=train_dataset,\n",
    "    eval_dataset=test_dataset,\n",
    "    compute_metrics=compute_metrics  \n",
    ")\n",
    "\n",
    "# Entrenar el modelo\n",
    "trainer.train()\n",
    "\n",
    "# Evaluar el modelo\n",
    "predictions = trainer.predict(test_dataset)\n",
    "pred_probs = torch.softmax(torch.tensor(predictions.predictions), dim=1)\n",
    "preds = torch.argmax(pred_probs, dim=1).numpy()\n",
    "\n",
    "# Imprimir reporte de clasificación\n",
    "print(classification_report(test_labels.numpy(), preds, target_names=label_encoder.classes_))\n",
    "\n",
    "# Guardar el modelo y el tokenizer\n",
    "model.save_pretrained('./my_model6')\n",
    "tokenizer.save_pretrained('./my_model6')\n"
   ]
  },
  {
   "cell_type": "code",
   "execution_count": 53,
   "metadata": {},
   "outputs": [
    {
     "data": {
      "image/png": "[encoded data removed]",
      "text/plain": [
       "<Figure size 800x600 with 1 Axes>"
      ]
     },
     "metadata": {},
     "output_type": "display_data"
    }
   ],
   "source": [
    "import matplotlib.pyplot as plt\n",
    "\n",
    "# Recuperar los registros de entrenamiento y evaluación\n",
    "training_logs = trainer.state.log_history\n",
    "\n",
    "# Filtrar los valores de accuracy y epochs de los logs\n",
    "train_accuracy = [log['eval_accuracy'] for log in training_logs if 'eval_accuracy' in log]\n",
    "eval_accuracy = [log['eval_accuracy'] for log in training_logs if 'eval_accuracy' in log]\n",
    "epochs = range(1, len(train_accuracy) + 1)\n",
    "\n",
    "# Graficar accuracy de entrenamiento y validación\n",
    "plt.figure(figsize=(8, 6))\n",
    "plt.plot(epochs, train_accuracy, label='Training Accuracy')\n",
    "plt.plot(epochs, eval_accuracy, label='Validation Accuracy')\n",
    "plt.xlabel('Epochs')\n",
    "plt.ylabel('Accuracy')\n",
    "plt.title('Training vs Validation Accuracy')\n",
    "plt.legend()\n",
    "plt.grid(True)\n",
    "plt.show()\n"
   ]
  },
  {
   "cell_type": "code",
   "execution_count": 50,
   "metadata": {},
   "outputs": [
    {
     "name": "stdout",
     "output_type": "stream",
     "text": [
      "   eléctrico  incendio  inundación    lluvia  no se relaciona  problema vial  \\\n",
      "0   0.848592  0.024073    0.019839  0.017543         0.060011       0.029943   \n",
      "\n",
      "                                         Texto  \n",
      "0  se cae un poste eléctrico y produce incedio  \n"
     ]
    }
   ],
   "source": [
    "import pandas as pd\n",
    "import numpy as np\n",
    "import torch\n",
    "from transformers import BertTokenizer, BertForSequenceClassification\n",
    "from sklearn.preprocessing import LabelEncoder\n",
    "from scipy.special import softmax\n",
    "\n",
    "# Cargar el modelo y el tokenizer pre-entrenado\n",
    "model = BertForSequenceClassification.from_pretrained('./my_model6')\n",
    "tokenizer = BertTokenizer.from_pretrained('./my_model6')\n",
    "\n",
    "# Definir un texto de ejemplo\n",
    "texto_ejemplo = \"se cae un poste eléctrico y produce incedio\"\n",
    "\n",
    "# Tokenizar el texto\n",
    "inputs = tokenizer(texto_ejemplo, return_tensors=\"pt\", padding=True, truncation=True, max_length=128)\n",
    "\n",
    "# Asegurarse de que el modelo está en modo de evaluación\n",
    "model.eval()\n",
    "\n",
    "# Hacer la predicción (no se necesita calcular los gradientes)\n",
    "with torch.no_grad():\n",
    "    outputs = model(**inputs)\n",
    "\n",
    "# Obtener las logits y calcular las probabilidades con softmax\n",
    "logits = outputs.logits\n",
    "probabilidades = softmax(logits.numpy(), axis=1)[0]\n",
    "\n",
    "# Cargar el LabelEncoder para obtener las categorías\n",
    "df = pd.read_csv(\"df_tweets_procesados.csv\")\n",
    "label_encoder = LabelEncoder()\n",
    "df['label'] = label_encoder.fit_transform(df['Tipo'])\n",
    "\n",
    "# Obtener los nombres de las categorías\n",
    "categorias = label_encoder.classes_\n",
    "\n",
    "# Crear un nuevo DataFrame con las categorías y las probabilidades\n",
    "df_resultado = pd.DataFrame([probabilidades], columns=categorias)\n",
    "\n",
    "# Agregar el texto de ejemplo para referencia\n",
    "df_resultado['Texto'] = texto_ejemplo\n",
    "\n",
    "# Mostrar el DataFrame con las categorías y sus porcentajes de presencia\n",
    "print(df_resultado)"
   ]
  }
 ],
 "metadata": {
  "kernelspec": {
   "display_name": "Python 3",
   "language": "python",
   "name": "python3"
  },
  "language_info": {
   "codemirror_mode": {
    "name": "ipython",
    "version": 3
   },
   "file_extension": ".py",
   "mimetype": "text/x-python",
   "name": "python",
   "nbconvert_exporter": "python",
   "pygments_lexer": "ipython3",
   "version": "3.12.7"
  }
 },
 "nbformat": 4,
 "nbformat_minor": 2
}
